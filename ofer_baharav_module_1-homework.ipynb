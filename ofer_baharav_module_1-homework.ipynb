{
 "cells": [
  {
   "cell_type": "code",
   "execution_count": 5,
   "metadata": {},
   "outputs": [
    {
     "data": {
      "text/plain": [
       "'/Users/oferbaharav/Lambda DSPT3/DS-Unit-4/DS-Unit-4-Sprint-1-NLP'"
      ]
     },
     "execution_count": 5,
     "metadata": {},
     "output_type": "execute_result"
    }
   ],
   "source": [
    "%pwd\n"
   ]
  },
  {
   "cell_type": "code",
   "execution_count": 6,
   "metadata": {},
   "outputs": [
    {
     "data": {
      "text/html": [
       "<div>\n",
       "<style scoped>\n",
       "    .dataframe tbody tr th:only-of-type {\n",
       "        vertical-align: middle;\n",
       "    }\n",
       "\n",
       "    .dataframe tbody tr th {\n",
       "        vertical-align: top;\n",
       "    }\n",
       "\n",
       "    .dataframe thead th {\n",
       "        text-align: right;\n",
       "    }\n",
       "</style>\n",
       "<table border=\"1\" class=\"dataframe\">\n",
       "  <thead>\n",
       "    <tr style=\"text-align: right;\">\n",
       "      <th></th>\n",
       "      <th>coffee_shop_name</th>\n",
       "      <th>full_review_text</th>\n",
       "      <th>star_rating</th>\n",
       "    </tr>\n",
       "  </thead>\n",
       "  <tbody>\n",
       "    <tr>\n",
       "      <th>0</th>\n",
       "      <td>The Factory - Cafe With a Soul</td>\n",
       "      <td>11/25/2016 1 check-in Love love loved the atm...</td>\n",
       "      <td>5.0 star rating</td>\n",
       "    </tr>\n",
       "    <tr>\n",
       "      <th>1</th>\n",
       "      <td>The Factory - Cafe With a Soul</td>\n",
       "      <td>12/2/2016 Listed in Date Night: Austin, Ambia...</td>\n",
       "      <td>4.0 star rating</td>\n",
       "    </tr>\n",
       "    <tr>\n",
       "      <th>2</th>\n",
       "      <td>The Factory - Cafe With a Soul</td>\n",
       "      <td>11/30/2016 1 check-in Listed in Brunch Spots ...</td>\n",
       "      <td>4.0 star rating</td>\n",
       "    </tr>\n",
       "    <tr>\n",
       "      <th>3</th>\n",
       "      <td>The Factory - Cafe With a Soul</td>\n",
       "      <td>11/25/2016 Very cool decor! Good drinks Nice ...</td>\n",
       "      <td>2.0 star rating</td>\n",
       "    </tr>\n",
       "    <tr>\n",
       "      <th>4</th>\n",
       "      <td>The Factory - Cafe With a Soul</td>\n",
       "      <td>12/3/2016 1 check-in They are located within ...</td>\n",
       "      <td>4.0 star rating</td>\n",
       "    </tr>\n",
       "  </tbody>\n",
       "</table>\n",
       "</div>"
      ],
      "text/plain": [
       "                  coffee_shop_name  \\\n",
       "0  The Factory - Cafe With a Soul    \n",
       "1  The Factory - Cafe With a Soul    \n",
       "2  The Factory - Cafe With a Soul    \n",
       "3  The Factory - Cafe With a Soul    \n",
       "4  The Factory - Cafe With a Soul    \n",
       "\n",
       "                                    full_review_text        star_rating  \n",
       "0   11/25/2016 1 check-in Love love loved the atm...   5.0 star rating   \n",
       "1   12/2/2016 Listed in Date Night: Austin, Ambia...   4.0 star rating   \n",
       "2   11/30/2016 1 check-in Listed in Brunch Spots ...   4.0 star rating   \n",
       "3   11/25/2016 Very cool decor! Good drinks Nice ...   2.0 star rating   \n",
       "4   12/3/2016 1 check-in They are located within ...   4.0 star rating   "
      ]
     },
     "execution_count": 6,
     "metadata": {},
     "output_type": "execute_result"
    }
   ],
   "source": [
    "import pandas as pd\n",
    "\n",
    "url = \"https://raw.githubusercontent.com/LambdaSchool/DS-Unit-4-Sprint-1-NLP/master/module1-text-data/data/yelp_coffeeshop_review_data.csv\"\n",
    "\n",
    "shops = pd.read_csv(url)\n",
    "shops.head()"
   ]
  },
  {
   "cell_type": "code",
   "execution_count": 7,
   "metadata": {},
   "outputs": [],
   "source": [
    "import re"
   ]
  },
  {
   "cell_type": "code",
   "execution_count": 8,
   "metadata": {},
   "outputs": [],
   "source": [
    "dates = []\n",
    "for text in shops['full_review_text']:\n",
    "    dates.append(re.findall(r'\\b[0-3]?[0-9]/[0-3]?[0-9]/(?:[0-9]{2})?[0-9]{2}\\b', text)[0])\n",
    "shops['review_date'] = dates"
   ]
  },
  {
   "cell_type": "code",
   "execution_count": 9,
   "metadata": {},
   "outputs": [],
   "source": [
    "content = []\n",
    "for text in shops['full_review_text']:\n",
    "    content.append(re.sub(r'\\b[0-3]?[0-9]/[0-3]?[0-9]/(?:[0-9]{2})?[0-9]{2}\\b', '', text))\n",
    "shops['review_content'] = content"
   ]
  },
  {
   "cell_type": "code",
   "execution_count": 10,
   "metadata": {},
   "outputs": [],
   "source": [
    "ratings = []\n",
    "for text in shops['star_rating']:\n",
    "    ratings.append(re.findall(r'\\b[0-9]+\\.[0-9]+\\b', text)[0])\n",
    "shops['rating'] = ratings"
   ]
  },
  {
   "cell_type": "code",
   "execution_count": 11,
   "metadata": {},
   "outputs": [
    {
     "data": {
      "text/html": [
       "<div>\n",
       "<style scoped>\n",
       "    .dataframe tbody tr th:only-of-type {\n",
       "        vertical-align: middle;\n",
       "    }\n",
       "\n",
       "    .dataframe tbody tr th {\n",
       "        vertical-align: top;\n",
       "    }\n",
       "\n",
       "    .dataframe thead th {\n",
       "        text-align: right;\n",
       "    }\n",
       "</style>\n",
       "<table border=\"1\" class=\"dataframe\">\n",
       "  <thead>\n",
       "    <tr style=\"text-align: right;\">\n",
       "      <th></th>\n",
       "      <th>coffee_shop_name</th>\n",
       "      <th>full_review_text</th>\n",
       "      <th>star_rating</th>\n",
       "      <th>review_date</th>\n",
       "      <th>review_content</th>\n",
       "      <th>rating</th>\n",
       "    </tr>\n",
       "  </thead>\n",
       "  <tbody>\n",
       "    <tr>\n",
       "      <th>0</th>\n",
       "      <td>The Factory - Cafe With a Soul</td>\n",
       "      <td>11/25/2016 1 check-in Love love loved the atm...</td>\n",
       "      <td>5.0 star rating</td>\n",
       "      <td>11/25/2016</td>\n",
       "      <td>1 check-in Love love loved the atmosphere! E...</td>\n",
       "      <td>5.0</td>\n",
       "    </tr>\n",
       "    <tr>\n",
       "      <th>1</th>\n",
       "      <td>The Factory - Cafe With a Soul</td>\n",
       "      <td>12/2/2016 Listed in Date Night: Austin, Ambia...</td>\n",
       "      <td>4.0 star rating</td>\n",
       "      <td>12/2/2016</td>\n",
       "      <td>Listed in Date Night: Austin, Ambiance in Au...</td>\n",
       "      <td>4.0</td>\n",
       "    </tr>\n",
       "    <tr>\n",
       "      <th>2</th>\n",
       "      <td>The Factory - Cafe With a Soul</td>\n",
       "      <td>11/30/2016 1 check-in Listed in Brunch Spots ...</td>\n",
       "      <td>4.0 star rating</td>\n",
       "      <td>11/30/2016</td>\n",
       "      <td>1 check-in Listed in Brunch Spots I loved th...</td>\n",
       "      <td>4.0</td>\n",
       "    </tr>\n",
       "    <tr>\n",
       "      <th>3</th>\n",
       "      <td>The Factory - Cafe With a Soul</td>\n",
       "      <td>11/25/2016 Very cool decor! Good drinks Nice ...</td>\n",
       "      <td>2.0 star rating</td>\n",
       "      <td>11/25/2016</td>\n",
       "      <td>Very cool decor! Good drinks Nice seating  H...</td>\n",
       "      <td>2.0</td>\n",
       "    </tr>\n",
       "    <tr>\n",
       "      <th>4</th>\n",
       "      <td>The Factory - Cafe With a Soul</td>\n",
       "      <td>12/3/2016 1 check-in They are located within ...</td>\n",
       "      <td>4.0 star rating</td>\n",
       "      <td>12/3/2016</td>\n",
       "      <td>1 check-in They are located within the North...</td>\n",
       "      <td>4.0</td>\n",
       "    </tr>\n",
       "  </tbody>\n",
       "</table>\n",
       "</div>"
      ],
      "text/plain": [
       "                  coffee_shop_name  \\\n",
       "0  The Factory - Cafe With a Soul    \n",
       "1  The Factory - Cafe With a Soul    \n",
       "2  The Factory - Cafe With a Soul    \n",
       "3  The Factory - Cafe With a Soul    \n",
       "4  The Factory - Cafe With a Soul    \n",
       "\n",
       "                                    full_review_text        star_rating  \\\n",
       "0   11/25/2016 1 check-in Love love loved the atm...   5.0 star rating    \n",
       "1   12/2/2016 Listed in Date Night: Austin, Ambia...   4.0 star rating    \n",
       "2   11/30/2016 1 check-in Listed in Brunch Spots ...   4.0 star rating    \n",
       "3   11/25/2016 Very cool decor! Good drinks Nice ...   2.0 star rating    \n",
       "4   12/3/2016 1 check-in They are located within ...   4.0 star rating    \n",
       "\n",
       "  review_date                                     review_content rating  \n",
       "0  11/25/2016    1 check-in Love love loved the atmosphere! E...    5.0  \n",
       "1   12/2/2016    Listed in Date Night: Austin, Ambiance in Au...    4.0  \n",
       "2  11/30/2016    1 check-in Listed in Brunch Spots I loved th...    4.0  \n",
       "3  11/25/2016    Very cool decor! Good drinks Nice seating  H...    2.0  \n",
       "4   12/3/2016    1 check-in They are located within the North...    4.0  "
      ]
     },
     "execution_count": 11,
     "metadata": {},
     "output_type": "execute_result"
    }
   ],
   "source": [
    "shops.max_columns = None\n",
    "shops.head(5)"
   ]
  },
  {
   "cell_type": "code",
   "execution_count": 13,
   "metadata": {},
   "outputs": [
    {
     "data": {
      "text/html": [
       "<div>\n",
       "<style scoped>\n",
       "    .dataframe tbody tr th:only-of-type {\n",
       "        vertical-align: middle;\n",
       "    }\n",
       "\n",
       "    .dataframe tbody tr th {\n",
       "        vertical-align: top;\n",
       "    }\n",
       "\n",
       "    .dataframe thead th {\n",
       "        text-align: right;\n",
       "    }\n",
       "</style>\n",
       "<table border=\"1\" class=\"dataframe\">\n",
       "  <thead>\n",
       "    <tr style=\"text-align: right;\">\n",
       "      <th></th>\n",
       "      <th>coffee_shop_name</th>\n",
       "      <th>review_date</th>\n",
       "      <th>review_content</th>\n",
       "      <th>rating</th>\n",
       "    </tr>\n",
       "  </thead>\n",
       "  <tbody>\n",
       "    <tr>\n",
       "      <th>0</th>\n",
       "      <td>The Factory - Cafe With a Soul</td>\n",
       "      <td>11/25/2016</td>\n",
       "      <td>1 check-in Love love loved the atmosphere! E...</td>\n",
       "      <td>5.0</td>\n",
       "    </tr>\n",
       "    <tr>\n",
       "      <th>1</th>\n",
       "      <td>The Factory - Cafe With a Soul</td>\n",
       "      <td>12/2/2016</td>\n",
       "      <td>Listed in Date Night: Austin, Ambiance in Au...</td>\n",
       "      <td>4.0</td>\n",
       "    </tr>\n",
       "    <tr>\n",
       "      <th>2</th>\n",
       "      <td>The Factory - Cafe With a Soul</td>\n",
       "      <td>11/30/2016</td>\n",
       "      <td>1 check-in Listed in Brunch Spots I loved th...</td>\n",
       "      <td>4.0</td>\n",
       "    </tr>\n",
       "    <tr>\n",
       "      <th>3</th>\n",
       "      <td>The Factory - Cafe With a Soul</td>\n",
       "      <td>11/25/2016</td>\n",
       "      <td>Very cool decor! Good drinks Nice seating  H...</td>\n",
       "      <td>2.0</td>\n",
       "    </tr>\n",
       "    <tr>\n",
       "      <th>4</th>\n",
       "      <td>The Factory - Cafe With a Soul</td>\n",
       "      <td>12/3/2016</td>\n",
       "      <td>1 check-in They are located within the North...</td>\n",
       "      <td>4.0</td>\n",
       "    </tr>\n",
       "    <tr>\n",
       "      <th>...</th>\n",
       "      <td>...</td>\n",
       "      <td>...</td>\n",
       "      <td>...</td>\n",
       "      <td>...</td>\n",
       "    </tr>\n",
       "    <tr>\n",
       "      <th>7611</th>\n",
       "      <td>The Steeping Room</td>\n",
       "      <td>2/19/2015</td>\n",
       "      <td>I actually step into this restaurant by chan...</td>\n",
       "      <td>4.0</td>\n",
       "    </tr>\n",
       "    <tr>\n",
       "      <th>7612</th>\n",
       "      <td>The Steeping Room</td>\n",
       "      <td>1/21/2016</td>\n",
       "      <td>Ok, The Steeping Room IS awesome. How do the...</td>\n",
       "      <td>5.0</td>\n",
       "    </tr>\n",
       "    <tr>\n",
       "      <th>7613</th>\n",
       "      <td>The Steeping Room</td>\n",
       "      <td>4/30/2015</td>\n",
       "      <td>Loved coming here for tea, and the atmospher...</td>\n",
       "      <td>4.0</td>\n",
       "    </tr>\n",
       "    <tr>\n",
       "      <th>7614</th>\n",
       "      <td>The Steeping Room</td>\n",
       "      <td>8/2/2015</td>\n",
       "      <td>The food is just average. The booths didn't ...</td>\n",
       "      <td>3.0</td>\n",
       "    </tr>\n",
       "    <tr>\n",
       "      <th>7615</th>\n",
       "      <td>The Steeping Room</td>\n",
       "      <td>5/23/2015</td>\n",
       "      <td>I finally stopped in for lunch with my colle...</td>\n",
       "      <td>4.0</td>\n",
       "    </tr>\n",
       "  </tbody>\n",
       "</table>\n",
       "<p>7616 rows × 4 columns</p>\n",
       "</div>"
      ],
      "text/plain": [
       "                     coffee_shop_name review_date  \\\n",
       "0     The Factory - Cafe With a Soul   11/25/2016   \n",
       "1     The Factory - Cafe With a Soul    12/2/2016   \n",
       "2     The Factory - Cafe With a Soul   11/30/2016   \n",
       "3     The Factory - Cafe With a Soul   11/25/2016   \n",
       "4     The Factory - Cafe With a Soul    12/3/2016   \n",
       "...                               ...         ...   \n",
       "7611               The Steeping Room    2/19/2015   \n",
       "7612               The Steeping Room    1/21/2016   \n",
       "7613               The Steeping Room    4/30/2015   \n",
       "7614               The Steeping Room     8/2/2015   \n",
       "7615               The Steeping Room    5/23/2015   \n",
       "\n",
       "                                         review_content rating  \n",
       "0       1 check-in Love love loved the atmosphere! E...    5.0  \n",
       "1       Listed in Date Night: Austin, Ambiance in Au...    4.0  \n",
       "2       1 check-in Listed in Brunch Spots I loved th...    4.0  \n",
       "3       Very cool decor! Good drinks Nice seating  H...    2.0  \n",
       "4       1 check-in They are located within the North...    4.0  \n",
       "...                                                 ...    ...  \n",
       "7611    I actually step into this restaurant by chan...    4.0  \n",
       "7612    Ok, The Steeping Room IS awesome. How do the...    5.0  \n",
       "7613    Loved coming here for tea, and the atmospher...    4.0  \n",
       "7614    The food is just average. The booths didn't ...    3.0  \n",
       "7615    I finally stopped in for lunch with my colle...    4.0  \n",
       "\n",
       "[7616 rows x 4 columns]"
      ]
     },
     "execution_count": 13,
     "metadata": {},
     "output_type": "execute_result"
    }
   ],
   "source": [
    "shops.drop(['full_review_text', 'star_rating'], axis = 1)"
   ]
  },
  {
   "cell_type": "code",
   "execution_count": 14,
   "metadata": {},
   "outputs": [
    {
     "data": {
      "text/plain": [
       "5.0    3780\n",
       "4.0    2360\n",
       "3.0     738\n",
       "2.0     460\n",
       "1.0     278\n",
       "Name: rating, dtype: int64"
      ]
     },
     "execution_count": 14,
     "metadata": {},
     "output_type": "execute_result"
    }
   ],
   "source": [
    "shops['rating'].value_counts()"
   ]
  },
  {
   "cell_type": "code",
   "execution_count": 15,
   "metadata": {},
   "outputs": [
    {
     "data": {
      "text/plain": [
       "0"
      ]
     },
     "execution_count": 15,
     "metadata": {},
     "output_type": "execute_result"
    }
   ],
   "source": [
    "shops.review_date.isna().sum()"
   ]
  },
  {
   "cell_type": "code",
   "execution_count": 16,
   "metadata": {},
   "outputs": [
    {
     "data": {
      "text/plain": [
       "['Friends', 'Romans', 'countrymen', 'lend', 'me', 'your', 'ears;']"
      ]
     },
     "execution_count": 16,
     "metadata": {},
     "output_type": "execute_result"
    }
   ],
   "source": [
    "sample = \"Friends, Romans, countrymen, lend me your ears;\"\n",
    "dir(sample)\n",
    "sample.replace(',','').split()"
   ]
  },
  {
   "cell_type": "code",
   "execution_count": 17,
   "metadata": {},
   "outputs": [
    {
     "data": {
      "text/plain": [
       "  1 check-in Super cute place for lounging and chatting up with a friend. The chicken and waffle was delicious. Chicken was cooked to perfection! Super moist chicken with fluffy waffle...more of a snack than a meal, so don't go here expecting to be filled with a meal.                                                                                                                                                                                                                                                                                                                                                                                                                                                                                                                                                                                                                                                                                                                                                                                                                                                                                                                                                                                                                                                                                                                                                                                                                                                                                                                                                                                                                                                                                                                                                                                                                                                                                                                                                                                                                                                                                                                                                                                                                                                                                                                                                                                                                                                                                                                                                                                                                                                                                                                                                                                                                                                                                                                                                                                                                                                                                                                                                                                                                                                                                                                                                                                                                                                                                                                                                                                                                                                                                                                                                                                                                                                                                                                                                                                                                                                                                                                                                                                                                                                                                                                                                                                                                                                                                                                                                                                                                                                                                                                                                                                                                                                                                                                                                                                                                                                                                                                                                                                                     4\n",
       "  The store has A+ decoration, but honestly, the coffee it made is not as good as other coffee shop in the surrounding area. It has no wifi, so good for hang out with friend or read a book. Not sure why there is no restroom here. Ordering app is well made, but probably won't be my coffee stop because of the quality of food/coffee. It's selling you the atmosphere they created, so don't expected the food/coffee. Probably would be a good date spot. 8 dollar tiny chicken and waffle. One of the most expensive chicken and waffle.                                                                                                                                                                                                                                                                                                                                                                                                                                                                                                                                                                                                                                                                                                                                                                                                                                                                                                                                                                                                                                                                                                                                                                                                                                                                                                                                                                                                                                                                                                                                                                                                                                                                                                                                                                                                                                                                                                                                                                                                                                                                                                                                                                                                                                                                                                                                                                                                                                                                                                                                                                                                                                                                                                                                                                                                                                                                                                                                                                                                                                                                                                                                                                                                                                                                                                                                                                                                                                                                                                                                                                                                                                                                                                                                                                                                                                                                                                                                                                                                                                                                                                                                                                                                                                                                                                                                                                                                                                                                                                                                                                                                                                                                                                                                4\n",
       "  This is a tough one for me.  I took my children here as a treat one afternoon and our first impression was good.  I liked the decor and the place has swings and a chess set!  Score for the kids! I went to place my order and had to use an ipad.  It was DIY-ordering.  I hit the wrong button of course and ended up messing up my order and having to redo the whole thing.  Not too thrilled with the ipad idea but I moved on.  I sat down and when our drinks were ready, they called my name to go get them.  They had a tip jar on the counter.  I have an issue with this since I had to place my own order and then go get my own drink.  I'm not sure what they did extra that constitutes a tip?  The milk tea was delicious!  The kids loved their drinks and \"pop tarts.\"  I started glancing at some of the books laying on the table and the first one I picked up was on tattoos and had a few nude people inside.  I pushed that one aside to be sure the kids didn't pick it up.  I went to use the restroom and framed on the hall wall was a picture with the F-word all over it.  Hmm, not my idea of tasteful art.  I was glad my children didn't need to use the bathroom.  While my milk tea was good, I wouldn't go back.  It was very expensive for what you get and I'd have to blindfold the children.                                                                                                                                                                                                                                                                                                                                                                                                                                                                                                                                                                                                                                                                                                                                                                                                                                                                                                                                                                                                                                                                                                                                                                                                                                                                                                                                                                                                                                                                                                                                                                                                                                                                                                                                                                                                                                                                                                                                                                                                                                                                                                                                                                                                                                                                                                                                                                                                                                                                                                                                                                                                                                                                                                                                                                                                                                                                                                                                                                                                                                                                                                                                                                                                                                                                                                                                                                                                                                                                                                                                                                                                                                                                                                                                                                                                                                                                                                                                          4\n",
       "  This is such a cute little cafe! I've driven by this place many times and hadn't noticed it until today. Glad I stopped-the famous chicken waffle was delish!                                                                                                                                                                                                                                                                                                                                                                                                                                                                                                                                                                                                                                                                                                                                                                                                                                                                                                                                                                                                                                                                                                                                                                                                                                                                                                                                                                                                                                                                                                                                                                                                                                                                                                                                                                                                                                                                                                                                                                                                                                                                                                                                                                                                                                                                                                                                                                                                                                                                                                                                                                                                                                                                                                                                                                                                                                                                                                                                                                                                                                                                                                                                                                                                                                                                                                                                                                                                                                                                                                                                                                                                                                                                                                                                                                                                                                                                                                                                                                                                                                                                                                                                                                                                                                                                                                                                                                                                                                                                                                                                                                                                                                                                                                                                                                                                                                                                                                                                                                                                                                                                                                                  4\n",
       "  This spot is super cute (\"like eating in a Pottery Barn\"), with drinks that are unique and with a somewhat limited menu. We tried the chicken and waffles, which was surprisingly delicious and our drinks were also tasty. I had the Livin La Vida Mocha and my husband had the pour over. I will definitely return with company, but prices weren't good enough to make this a regular stop in our rotation.                                                                                                                                                                                                                                                                                                                                                                                                                                                                                                                                                                                                                                                                                                                                                                                                                                                                                                                                                                                                                                                                                                                                                                                                                                                                                                                                                                                                                                                                                                                                                                                                                                                                                                                                                                                                                                                                                                                                                                                                                                                                                                                                                                                                                                                                                                                                                                                                                                                                                                                                                                                                                                                                                                                                                                                                                                                                                                                                                                                                                                                                                                                                                                                                                                                                                                                                                                                                                                                                                                                                                                                                                                                                                                                                                                                                                                                                                                                                                                                                                                                                                                                                                                                                                                                                                                                                                                                                                                                                                                                                                                                                                                                                                                                                                                                                                                                                 4\n",
       "                                                                                                                                                                                                                                                                                                                                                                                                                                                                                                                                                                                                                                                                                                                                                                                                                                                                                                                                                                                                                                                                                                                                                                                                                                                                                                                                                                                                                                                                                                                                                                                                                                                                                                                                                                                                                                                                                                                                                                                                                                                                                                                                                                                                                                                                                                                                                                                                                                                                                                                                                                                                                                                                                                                                                                                                                                                                                                                                                                                                                                                                                                                                                                                                                                                                                                                                                                                                                                                                                                                                                                                                                                                                                                                                                                                                                                                                                                                                                                                                                                                                                                                                                                                                                                                                                                                                                                                                                                                                                                                                                                                                                                                                                                                                                                                                                                                                                                                                                                                                                                                                                                                                                                                                                                                                                ..\n",
       "  Great gelato, refreshing to see new flavors besides the typical offerings. You haven't lived until you have tried the Peanut Butter Nutella.. so good.  Stop by in the morning for an espresso drink, if you are lucky it will be hand crafted by a real Italian barista.                                                                                                                                                                                                                                                                                                                                                                                                                                                                                                                                                                                                                                                                                                                                                                                                                                                                                                                                                                                                                                                                                                                                                                                                                                                                                                                                                                                                                                                                                                                                                                                                                                                                                                                                                                                                                                                                                                                                                                                                                                                                                                                                                                                                                                                                                                                                                                                                                                                                                                                                                                                                                                                                                                                                                                                                                                                                                                                                                                                                                                                                                                                                                                                                                                                                                                                                                                                                                                                                                                                                                                                                                                                                                                                                                                                                                                                                                                                                                                                                                                                                                                                                                                                                                                                                                                                                                                                                                                                                                                                                                                                                                                                                                                                                                                                                                                                                                                                                                                                                      1\n",
       "  2 check-ins This place is literally so cute. I only got coffee to go this time but I'll definitely come back and study here. Parking is a little limited in the lot but there's a pay to park on the street. You only need to pay tues-Saturday 6pm-12 am. Internet password is ilovepuppies  This place offers coffee and little treats. They make their own syrups so it's super delicious and blends well into the coffee rather than stick at the bottom like Starbucks. I got a vanilla latte and my BF got the lavender latte. Both were delicious! It was a good amount of sweet. I'm not a huge fan of lavender but I actually enjoyed it! It has a really nice fragrant taste and not too overpowering.  This is probably going to become one of my go tos. I'm pretty obsessed with the decor in here: cute paintings, succulents, lights....basically tumblr hipster lol. Vanilla latte                                                                                                                                                                                                                                                                                                                                                                                                                                                                                                                                                                                                                                                                                                                                                                                                                                                                                                                                                                                                                                                                                                                                                                                                                                                                                                                                                                                                                                                                                                                                                                                                                                                                                                                                                                                                                                                                                                                                                                                                                                                                                                                                                                                                                                                                                                                                                                                                                                                                                                                                                                                                                                                                                                                                                                                                                                                                                                                                                                                                                                                                                                                                                                                                                                                                                                                                                                                                                                                                                                                                                                                                                                                                                                                                                                                                                                                                                                                                                                                                                                                                                                                                                                                                                                                                                                                                                                             1\n",
       "  I've been a fan of Patika for the past three years, ever since they just had a coffee trailer downtown. One of the first things I did when I moved to Austin was search for the best coffee in town. After visiting nearly 20 different coffee shops, I found my soulmate in Patika. Not only is the coffee impressive, but all the baristas are highly skilled and consistent in their work. They also appreciate the loyalty of their longtime customers (which can't be said for some of the other places I've frequented in the past). The one drawback? At that time they didn't have a brick and mortar. How I kept dreaming of the day they would, so I would have a place to plant myself for several hours. Well, that day finally came in September 2014!  Since they first opened their doors, I've been a regular. I work remotely, so I affectionately call this place my \"office\". It's really become my second home. So where do I start?  Well, for starters the whole vibe in this place is just awesome. The decor is clean, simple, and modern. There is lots of natural light and a variety of options when it comes to seating - whether it's at the community table, an individual table, or a taller table with stools. You can enter from either the front door or a set of double doors in the back that lead out to a beautiful patio area with a great, big pecan tree.  As a mom of two kids, I'm also really picky when it comes to the cleanliness of a business. Not only is the place spotless, but even the bathrooms are nice. And let's face it, most coffee shop bathrooms are nasty.  Ambience-wise, I love their selection of music. They always put on a good variety - jazz, hip hop, chill electronic, French cafe music, reggae, bossa nova, etc. And as of May 2015, I noticed they have speakers outside now. Even better, is the fact that they have LIVE jazz every Wednesday! Which seems to be VERY hard to find anywhere else in Austin (unless you go somewhere more formal and official for jazz like the Elephant Room). As a jazz lover, I enjoy bringing my kids every Wednesday to just unwind. Reminds me of some fond memories I have of New Orleans. They also do an eclectic mix of live music on Thursdays.  Next is the coffee and food itself. I've had almost everything on their menu. All I can say is I haven't had anything I've disliked. My favorite is their cafe au lait and their cortado (more milk than a macchiato; less milk than a cappuccino). I also love their tea selection - especially this one tangy blood orange tea! Even the cups and mugs are stylish.  In the evening, they have a great selection of wine and beer (including the Japanese Hitachino Nest beer). As for their food items, let's start with their daytime menu of bakery goods and bagels. The bagels they get fresh from Rockstar Bagels and all their bakery goods are made in-house by Bria (not sure if I spelled that right?), their talented baker. She comes up with some ridiculously creative things that I haven't seen anywhere else. A few things that stand out are the glazed donut garnished with bits of chicken 'n waffles, spiced donut holes, the rosé muffin, the peanut butter sriracha cookie, and the chocolate chip corn flake cookie.  Then in the evenings they switch to a different menu of small bites that are fun to share with friends. I love the cheese plate (which comes with toasted baguette from Easy Tiger). The spiced nuts and affogato are also good.  Last, is the service, which is outstanding. Owners Andy Wigginton and Nick Krupa really do run this business to perfection. I admit, at times I can be like a nagging mom (one of those \"annoying\" customers who is always making suggestions) but they really do listen to customer feedback. Several examples.... I (as well as perhaps others) suggested they put more signs in the parking area to direct customers to the alternate parking lot behind Mockingbird. Done. One day I complained about the internet being slow. Done.  As for the baristas, they are all equally wonderful - friendly, professional, accommodating, and consistent. I've seen the same baristas for years, since going to their trailer. And anytime you see the same employees year after year, you know the business is run well and the employees are happy to be there.  One last thing I wanted to say about this business is how welcoming it is to a wide variety of people. For those with baby strollers or disabilities there's a wheelchair friendly entrance in the back; for those on a bike, a spacious bike rack in the front. I often come with my two children; sometimes we'll even bring other kids for hot chocolate playdates or Italian sodas in the warmer months. So, yes, I can vouch it's a family friendly place. I've observed so many different kinds of people - those on job interviews, couples on their first date, SXSW out of town tourists, students studying, friends catching up, and then all the telecommuters, like me, working away on their laptops.  Truly my favorite place in Austin! That's right folks.... food porn at its best. Behold the cherry goat cheese thyme DONUT.     1\n",
       "  Sara made the most beautiful Hollywood cake for our daughters Bat Mitzvah this weekend.  Every guest commented on how amazing the cake looked, and I can honestly say it was the best tasting cake we have ever had.  Amazing job!   Thank you Sara!                                                                                                                                                                                                                                                                                                                                                                                                                                                                                                                                                                                                                                                                                                                                                                                                                                                                                                                                                                                                                                                                                                                                                                                                                                                                                                                                                                                                                                                                                                                                                                                                                                                                                                                                                                                                                                                                                                                                                                                                                                                                                                                                                                                                                                                                                                                                                                                                                                                                                                                                                                                                                                                                                                                                                                                                                                                                                                                                                                                                                                                                                                                                                                                                                                                                                                                                                                                                                                                                                                                                                                                                                                                                                                                                                                                                                                                                                                                                                                                                                                                                                                                                                                                                                                                                                                                                                                                                                                                                                                                                                                                                                                                                                                                                                                                                                                                                                                                                                                                                                           1\n",
       "  2 check-ins There are a few reasons why I like this market, namely the cool staffers. the hard-to-find artisan fountain sodas and a fairly legit craft beer selection. But forget all that - come here for the BOMB ASS sandwiches.  Which one's the best? I asked one of the employees a similar question and I got a 'they're all great'. I guess it's like asking a parent which child is their favorite. Anyhow, I have yet to eat my way through the entire menu, but I can vouch that the Turkey Basil Bacon Sandwich is the kind of masterpiece that'll inspire you to race through those yellow-melting-into-red traffic signals*.  Oh yes - and don't leave without checking out the imported candy section.  *Please don't follow my lead. I'm a chick and can cry my way out of a speeding ticket. Not that it's ever worked.                                                                                                                                                                                                                                                                                                                                                                                                                                                                                                                                                                                                                                                                                                                                                                                                                                                                                                                                                                                                                                                                                                                                                                                                                                                                                                                                                                                                                                                                                                                                                                                                                                                                                                                                                                                                                                                                                                                                                                                                                                                                                                                                                                                                                                                                                                                                                                                                                                                                                                                                                                                                                                                                                                                                                                                                                                                                                                                                                                                                                                                                                                                                                                                                                                                                                                                                                                                                                                                                                                                                                                                                                                                                                                                                                                                                                                                                                                                                                                                                                                                                                                                                                                                                                                                                                                                                                                                                                                       1\n",
       "Name: review_content, Length: 6915, dtype: int64"
      ]
     },
     "execution_count": 17,
     "metadata": {},
     "output_type": "execute_result"
    }
   ],
   "source": [
    "shops['review_content'].value_counts()"
   ]
  },
  {
   "cell_type": "code",
   "execution_count": 18,
   "metadata": {},
   "outputs": [],
   "source": [
    "def tokenize(text):\n",
    "    \"\"\"Parses a string into a list of semantic units (words)\n",
    "\n",
    "    Args:\n",
    "        text (str): The string that the function will tokenize.\n",
    "\n",
    "    Returns:\n",
    "        list: tokens parsed out by the mechanics of your choice\n",
    "    \"\"\"\n",
    "    \n",
    "    tokens = re.sub(r'[^a-zA-Z ^0-9]', '', text)\n",
    "    tokens = tokens.lower().split()\n",
    "    \n",
    "    return tokens"
   ]
  },
  {
   "cell_type": "code",
   "execution_count": 19,
   "metadata": {},
   "outputs": [
    {
     "data": {
      "text/plain": [
       "['friends', 'romans', 'countrymen', 'lend', 'me', 'your', 'ears']"
      ]
     },
     "execution_count": 19,
     "metadata": {},
     "output_type": "execute_result"
    }
   ],
   "source": [
    "tokenize(sample)"
   ]
  },
  {
   "cell_type": "code",
   "execution_count": 20,
   "metadata": {},
   "outputs": [],
   "source": [
    "\"\"\"\n",
    "Import Statements\n",
    "\"\"\"\n",
    "\n",
    "# Base\n",
    "from collections import Counter\n",
    "import re\n",
    " \n",
    "import pandas as pd\n",
    "\n",
    "# Plotting\n",
    "import squarify\n",
    "import matplotlib.pyplot as plt\n",
    "import seaborn as sns\n",
    "\n",
    "# NLP Libraries\n",
    "import spacy\n",
    "from spacy.tokenizer import Tokenizer\n",
    "from nltk.stem import PorterStemmer\n",
    "\n",
    "nlp = spacy.load(\"en_core_web_lg\")\n"
   ]
  },
  {
   "cell_type": "code",
   "execution_count": 21,
   "metadata": {},
   "outputs": [],
   "source": [
    "shops['tokens'] = shops['review_content'].apply(tokenize)"
   ]
  },
  {
   "cell_type": "code",
   "execution_count": 22,
   "metadata": {},
   "outputs": [
    {
     "data": {
      "text/plain": [
       "0    [1, checkin, love, love, loved, the, atmospher...\n",
       "1    [listed, in, date, night, austin, ambiance, in...\n",
       "2    [1, checkin, listed, in, brunch, spots, i, lov...\n",
       "3    [very, cool, decor, good, drinks, nice, seatin...\n",
       "4    [1, checkin, they, are, located, within, the, ...\n",
       "Name: tokens, dtype: object"
      ]
     },
     "execution_count": 22,
     "metadata": {},
     "output_type": "execute_result"
    }
   ],
   "source": [
    "shops['tokens'].head()"
   ]
  },
  {
   "cell_type": "code",
   "execution_count": 23,
   "metadata": {},
   "outputs": [
    {
     "data": {
      "text/plain": [
       "5.0    3780\n",
       "4.0    2360\n",
       "3.0     738\n",
       "2.0     460\n",
       "1.0     278\n",
       "Name: rating, dtype: int64"
      ]
     },
     "execution_count": 23,
     "metadata": {},
     "output_type": "execute_result"
    }
   ],
   "source": [
    "shops['rating'].value_counts(dropna=False)"
   ]
  },
  {
   "cell_type": "code",
   "execution_count": 24,
   "metadata": {},
   "outputs": [
    {
     "data": {
      "text/plain": [
       "[('the', 34809),\n",
       " ('and', 26650),\n",
       " ('a', 22755),\n",
       " ('i', 20237),\n",
       " ('to', 17164),\n",
       " ('of', 12600),\n",
       " ('is', 11999),\n",
       " ('coffee', 10353),\n",
       " ('was', 9707),\n",
       " ('in', 9546)]"
      ]
     },
     "execution_count": 24,
     "metadata": {},
     "output_type": "execute_result"
    }
   ],
   "source": [
    "# Object from Base Python\n",
    "from collections import Counter\n",
    "\n",
    "# The object `Counter` takes an iterable, but you can instaniate an empty one and update it. \n",
    "word_counts = Counter()\n",
    "\n",
    "# Update it based on a split of each of our documents\n",
    "shops['tokens'].apply(lambda x: word_counts.update(x))\n",
    "\n",
    "# Print out the 10 most common words\n",
    "word_counts.most_common(10)"
   ]
  },
  {
   "cell_type": "code",
   "execution_count": 25,
   "metadata": {},
   "outputs": [
    {
     "data": {
      "text/plain": [
       "(7616, 7)"
      ]
     },
     "execution_count": 25,
     "metadata": {},
     "output_type": "execute_result"
    }
   ],
   "source": [
    "shops.shape"
   ]
  },
  {
   "cell_type": "code",
   "execution_count": 26,
   "metadata": {},
   "outputs": [],
   "source": [
    "def count(docs):\n",
    "\n",
    "    word_counts = Counter()\n",
    "    appears_in = Counter()\n",
    "\n",
    "    total_docs = len(docs)\n",
    "\n",
    "    for doc in docs:\n",
    "        word_counts.update(doc)\n",
    "        appears_in.update(set(doc))\n",
    "\n",
    "    temp = zip(word_counts.keys(), word_counts.values())\n",
    "\n",
    "    wc = pd.DataFrame(temp, columns = ['word', 'count'])\n",
    "\n",
    "    wc['rank'] = wc['count'].rank(method='first', ascending=False)\n",
    "    total = wc['count'].sum()\n",
    "\n",
    "    wc['pct_total'] = wc['count'].apply(lambda x: x / total)\n",
    "\n",
    "    wc = wc.sort_values(by='rank')\n",
    "    wc['cul_pct_total'] = wc['pct_total'].cumsum()\n",
    "\n",
    "    t2 = zip(appears_in.keys(), appears_in.values())\n",
    "    ac = pd.DataFrame(t2, columns=['word', 'appears_in'])\n",
    "    wc = ac.merge(wc, on='word')\n",
    "\n",
    "    wc['appears_in_pct'] = wc['appears_in'].apply(lambda x: x / total_docs)\n",
    "\n",
    "    return wc.sort_values(by='rank')"
   ]
  },
  {
   "cell_type": "code",
   "execution_count": 27,
   "metadata": {},
   "outputs": [],
   "source": [
    "wc = count(shops['tokens'])"
   ]
  },
  {
   "cell_type": "code",
   "execution_count": 28,
   "metadata": {},
   "outputs": [
    {
     "data": {
      "text/html": [
       "<div>\n",
       "<style scoped>\n",
       "    .dataframe tbody tr th:only-of-type {\n",
       "        vertical-align: middle;\n",
       "    }\n",
       "\n",
       "    .dataframe tbody tr th {\n",
       "        vertical-align: top;\n",
       "    }\n",
       "\n",
       "    .dataframe thead th {\n",
       "        text-align: right;\n",
       "    }\n",
       "</style>\n",
       "<table border=\"1\" class=\"dataframe\">\n",
       "  <thead>\n",
       "    <tr style=\"text-align: right;\">\n",
       "      <th></th>\n",
       "      <th>word</th>\n",
       "      <th>appears_in</th>\n",
       "      <th>count</th>\n",
       "      <th>rank</th>\n",
       "      <th>pct_total</th>\n",
       "      <th>cul_pct_total</th>\n",
       "      <th>appears_in_pct</th>\n",
       "    </tr>\n",
       "  </thead>\n",
       "  <tbody>\n",
       "    <tr>\n",
       "      <th>57</th>\n",
       "      <td>the</td>\n",
       "      <td>6847</td>\n",
       "      <td>34809</td>\n",
       "      <td>1.0</td>\n",
       "      <td>0.044978</td>\n",
       "      <td>0.044978</td>\n",
       "      <td>0.899028</td>\n",
       "    </tr>\n",
       "    <tr>\n",
       "      <th>71</th>\n",
       "      <td>and</td>\n",
       "      <td>6864</td>\n",
       "      <td>26650</td>\n",
       "      <td>2.0</td>\n",
       "      <td>0.034436</td>\n",
       "      <td>0.079414</td>\n",
       "      <td>0.901261</td>\n",
       "    </tr>\n",
       "    <tr>\n",
       "      <th>24</th>\n",
       "      <td>a</td>\n",
       "      <td>6246</td>\n",
       "      <td>22755</td>\n",
       "      <td>3.0</td>\n",
       "      <td>0.029403</td>\n",
       "      <td>0.108816</td>\n",
       "      <td>0.820116</td>\n",
       "    </tr>\n",
       "    <tr>\n",
       "      <th>34</th>\n",
       "      <td>i</td>\n",
       "      <td>5528</td>\n",
       "      <td>20237</td>\n",
       "      <td>4.0</td>\n",
       "      <td>0.026149</td>\n",
       "      <td>0.134965</td>\n",
       "      <td>0.725840</td>\n",
       "    </tr>\n",
       "    <tr>\n",
       "      <th>13</th>\n",
       "      <td>to</td>\n",
       "      <td>5653</td>\n",
       "      <td>17164</td>\n",
       "      <td>5.0</td>\n",
       "      <td>0.022178</td>\n",
       "      <td>0.157144</td>\n",
       "      <td>0.742253</td>\n",
       "    </tr>\n",
       "  </tbody>\n",
       "</table>\n",
       "</div>"
      ],
      "text/plain": [
       "   word  appears_in  count  rank  pct_total  cul_pct_total  appears_in_pct\n",
       "57  the        6847  34809   1.0   0.044978       0.044978        0.899028\n",
       "71  and        6864  26650   2.0   0.034436       0.079414        0.901261\n",
       "24    a        6246  22755   3.0   0.029403       0.108816        0.820116\n",
       "34    i        5528  20237   4.0   0.026149       0.134965        0.725840\n",
       "13   to        5653  17164   5.0   0.022178       0.157144        0.742253"
      ]
     },
     "execution_count": 28,
     "metadata": {},
     "output_type": "execute_result"
    }
   ],
   "source": [
    "wc.head()"
   ]
  },
  {
   "cell_type": "code",
   "execution_count": 29,
   "metadata": {},
   "outputs": [
    {
     "data": {
      "image/png": "[encoded data removed]",
      "text/plain": [
       "<Figure size 432x288 with 1 Axes>"
      ]
     },
     "metadata": {
      "needs_background": "light"
     },
     "output_type": "display_data"
    }
   ],
   "source": [
    "import seaborn as sns\n",
    "\n",
    "# Cumulative Distribution Plot\n",
    "sns.lineplot(x='rank', y='cul_pct_total', data=wc);"
   ]
  },
  {
   "cell_type": "code",
   "execution_count": 30,
   "metadata": {},
   "outputs": [
    {
     "data": {
      "text/plain": [
       "1.0000000000003988"
      ]
     },
     "execution_count": 30,
     "metadata": {},
     "output_type": "execute_result"
    }
   ],
   "source": [
    "wc[wc['rank'] <= 200000]['cul_pct_total'].max()"
   ]
  },
  {
   "cell_type": "code",
   "execution_count": 31,
   "metadata": {},
   "outputs": [
    {
     "data": {
      "image/png": "[encoded data removed]",
      "text/plain": [
       "<Figure size 432x288 with 1 Axes>"
      ]
     },
     "metadata": {
      "needs_background": "light"
     },
     "output_type": "display_data"
    }
   ],
   "source": [
    "import squarify\n",
    "import matplotlib.pyplot as plt\n",
    "\n",
    "wc_top20 = wc[wc['rank'] <= 20]\n",
    "\n",
    "squarify.plot(sizes=wc_top20['pct_total'], label=wc_top20['word'], alpha=.8 )\n",
    "plt.axis('off')\n",
    "plt.show()"
   ]
  },
  {
   "cell_type": "code",
   "execution_count": 32,
   "metadata": {},
   "outputs": [],
   "source": [
    "import spacy\n",
    "from spacy.tokenizer import Tokenizer\n",
    "\n",
    "\n",
    "# Tokenizer\n",
    "tokenizer = Tokenizer(nlp.vocab)"
   ]
  },
  {
   "cell_type": "code",
   "execution_count": 33,
   "metadata": {},
   "outputs": [
    {
     "data": {
      "text/plain": [
       "['Friends,', 'Romans,', 'countrymen,', 'lend', 'me', 'your', 'ears;']"
      ]
     },
     "execution_count": 33,
     "metadata": {},
     "output_type": "execute_result"
    }
   ],
   "source": [
    "# Print out list of tokens\n",
    "[token.text for token in tokenizer(sample)]"
   ]
  },
  {
   "cell_type": "code",
   "execution_count": 34,
   "metadata": {},
   "outputs": [],
   "source": [
    "# Tokenizer Pipe\n",
    "\n",
    "tokens = []\n",
    "\n",
    "\"\"\" Make them tokens \"\"\"\n",
    "for doc in tokenizer.pipe(shops['review_content'], batch_size=500):\n",
    "    doc_tokens = [token.text for token in doc]\n",
    "    tokens.append(doc_tokens)\n",
    "\n",
    "shops['tokens'] = tokens"
   ]
  },
  {
   "cell_type": "code",
   "execution_count": 35,
   "metadata": {},
   "outputs": [
    {
     "data": {
      "text/plain": [
       "0    [  , 1, check-in, Love, love, loved, the, atmo...\n",
       "1    [  , Listed, in, Date, Night:, Austin,, Ambian...\n",
       "2    [  , 1, check-in, Listed, in, Brunch, Spots, I...\n",
       "3    [  , Very, cool, decor!, Good, drinks, Nice, s...\n",
       "4    [  , 1, check-in, They, are, located, within, ...\n",
       "Name: tokens, dtype: object"
      ]
     },
     "execution_count": 35,
     "metadata": {},
     "output_type": "execute_result"
    }
   ],
   "source": [
    "shops['tokens'].head()"
   ]
  },
  {
   "cell_type": "code",
   "execution_count": 36,
   "metadata": {},
   "outputs": [],
   "source": [
    "tokens = []\n",
    "\n",
    "\"\"\" Update those tokens w/o stopwords\"\"\"\n",
    "for doc in tokenizer.pipe(shops['review_content'], batch_size=500):\n",
    "    \n",
    "    doc_tokens = []\n",
    "    \n",
    "    for token in doc:\n",
    "        if (token.is_stop == False) & (token.is_punct == False) & (token.is_space == False) & (token.is_alpha == True):\n",
    "            doc_tokens.append(token.text.lower())\n",
    "\n",
    "    tokens.append(doc_tokens)\n",
    "\n",
    "shops['tokens'] = tokens"
   ]
  },
  {
   "cell_type": "code",
   "execution_count": 37,
   "metadata": {},
   "outputs": [
    {
     "data": {
      "text/plain": [
       "0    [love, love, loved, corner, coffee, shop, orde...\n",
       "1    [listed, date, ambiance, austin, love, definit...\n",
       "2    [listed, brunch, spots, loved, eclectic, homey...\n",
       "3    [cool, good, drinks, nice, seating, extra, oun...\n",
       "4    [located, northcross, mall, shopping, center, ...\n",
       "Name: tokens, dtype: object"
      ]
     },
     "execution_count": 37,
     "metadata": {},
     "output_type": "execute_result"
    }
   ],
   "source": [
    "shops.tokens.head()"
   ]
  },
  {
   "cell_type": "code",
   "execution_count": 38,
   "metadata": {},
   "outputs": [],
   "source": [
    "shops['good'] = shops['rating'] >= '4.0'"
   ]
  },
  {
   "cell_type": "code",
   "execution_count": 39,
   "metadata": {},
   "outputs": [
    {
     "data": {
      "text/html": [
       "<div>\n",
       "<style scoped>\n",
       "    .dataframe tbody tr th:only-of-type {\n",
       "        vertical-align: middle;\n",
       "    }\n",
       "\n",
       "    .dataframe tbody tr th {\n",
       "        vertical-align: top;\n",
       "    }\n",
       "\n",
       "    .dataframe thead th {\n",
       "        text-align: right;\n",
       "    }\n",
       "</style>\n",
       "<table border=\"1\" class=\"dataframe\">\n",
       "  <thead>\n",
       "    <tr style=\"text-align: right;\">\n",
       "      <th></th>\n",
       "      <th>coffee_shop_name</th>\n",
       "      <th>full_review_text</th>\n",
       "      <th>star_rating</th>\n",
       "      <th>review_date</th>\n",
       "      <th>review_content</th>\n",
       "      <th>rating</th>\n",
       "      <th>tokens</th>\n",
       "      <th>good</th>\n",
       "    </tr>\n",
       "  </thead>\n",
       "  <tbody>\n",
       "    <tr>\n",
       "      <th>0</th>\n",
       "      <td>The Factory - Cafe With a Soul</td>\n",
       "      <td>11/25/2016 1 check-in Love love loved the atm...</td>\n",
       "      <td>5.0 star rating</td>\n",
       "      <td>11/25/2016</td>\n",
       "      <td>1 check-in Love love loved the atmosphere! E...</td>\n",
       "      <td>5.0</td>\n",
       "      <td>[love, love, loved, corner, coffee, shop, orde...</td>\n",
       "      <td>True</td>\n",
       "    </tr>\n",
       "    <tr>\n",
       "      <th>1</th>\n",
       "      <td>The Factory - Cafe With a Soul</td>\n",
       "      <td>12/2/2016 Listed in Date Night: Austin, Ambia...</td>\n",
       "      <td>4.0 star rating</td>\n",
       "      <td>12/2/2016</td>\n",
       "      <td>Listed in Date Night: Austin, Ambiance in Au...</td>\n",
       "      <td>4.0</td>\n",
       "      <td>[listed, date, ambiance, austin, love, definit...</td>\n",
       "      <td>True</td>\n",
       "    </tr>\n",
       "    <tr>\n",
       "      <th>2</th>\n",
       "      <td>The Factory - Cafe With a Soul</td>\n",
       "      <td>11/30/2016 1 check-in Listed in Brunch Spots ...</td>\n",
       "      <td>4.0 star rating</td>\n",
       "      <td>11/30/2016</td>\n",
       "      <td>1 check-in Listed in Brunch Spots I loved th...</td>\n",
       "      <td>4.0</td>\n",
       "      <td>[listed, brunch, spots, loved, eclectic, homey...</td>\n",
       "      <td>True</td>\n",
       "    </tr>\n",
       "    <tr>\n",
       "      <th>3</th>\n",
       "      <td>The Factory - Cafe With a Soul</td>\n",
       "      <td>11/25/2016 Very cool decor! Good drinks Nice ...</td>\n",
       "      <td>2.0 star rating</td>\n",
       "      <td>11/25/2016</td>\n",
       "      <td>Very cool decor! Good drinks Nice seating  H...</td>\n",
       "      <td>2.0</td>\n",
       "      <td>[cool, good, drinks, nice, seating, extra, oun...</td>\n",
       "      <td>False</td>\n",
       "    </tr>\n",
       "    <tr>\n",
       "      <th>4</th>\n",
       "      <td>The Factory - Cafe With a Soul</td>\n",
       "      <td>12/3/2016 1 check-in They are located within ...</td>\n",
       "      <td>4.0 star rating</td>\n",
       "      <td>12/3/2016</td>\n",
       "      <td>1 check-in They are located within the North...</td>\n",
       "      <td>4.0</td>\n",
       "      <td>[located, northcross, mall, shopping, center, ...</td>\n",
       "      <td>True</td>\n",
       "    </tr>\n",
       "  </tbody>\n",
       "</table>\n",
       "</div>"
      ],
      "text/plain": [
       "                  coffee_shop_name  \\\n",
       "0  The Factory - Cafe With a Soul    \n",
       "1  The Factory - Cafe With a Soul    \n",
       "2  The Factory - Cafe With a Soul    \n",
       "3  The Factory - Cafe With a Soul    \n",
       "4  The Factory - Cafe With a Soul    \n",
       "\n",
       "                                    full_review_text        star_rating  \\\n",
       "0   11/25/2016 1 check-in Love love loved the atm...   5.0 star rating    \n",
       "1   12/2/2016 Listed in Date Night: Austin, Ambia...   4.0 star rating    \n",
       "2   11/30/2016 1 check-in Listed in Brunch Spots ...   4.0 star rating    \n",
       "3   11/25/2016 Very cool decor! Good drinks Nice ...   2.0 star rating    \n",
       "4   12/3/2016 1 check-in They are located within ...   4.0 star rating    \n",
       "\n",
       "  review_date                                     review_content rating  \\\n",
       "0  11/25/2016    1 check-in Love love loved the atmosphere! E...    5.0   \n",
       "1   12/2/2016    Listed in Date Night: Austin, Ambiance in Au...    4.0   \n",
       "2  11/30/2016    1 check-in Listed in Brunch Spots I loved th...    4.0   \n",
       "3  11/25/2016    Very cool decor! Good drinks Nice seating  H...    2.0   \n",
       "4   12/3/2016    1 check-in They are located within the North...    4.0   \n",
       "\n",
       "                                              tokens   good  \n",
       "0  [love, love, loved, corner, coffee, shop, orde...   True  \n",
       "1  [listed, date, ambiance, austin, love, definit...   True  \n",
       "2  [listed, brunch, spots, loved, eclectic, homey...   True  \n",
       "3  [cool, good, drinks, nice, seating, extra, oun...  False  \n",
       "4  [located, northcross, mall, shopping, center, ...   True  "
      ]
     },
     "execution_count": 39,
     "metadata": {},
     "output_type": "execute_result"
    }
   ],
   "source": [
    "shops.head(5)"
   ]
  },
  {
   "cell_type": "code",
   "execution_count": 40,
   "metadata": {},
   "outputs": [
    {
     "data": {
      "image/png": "[encoded data removed]",
      "text/plain": [
       "<Figure size 1296x504 with 3 Axes>"
      ]
     },
     "metadata": {
      "needs_background": "light"
     },
     "output_type": "display_data"
    }
   ],
   "source": [
    "wc = count(shops['tokens'])\n",
    "wc_good = count(shops[shops['good'] == True]['tokens'])\n",
    "wc_bad = count(shops[shops['good'] == False]['tokens'])\n",
    "\n",
    "# Get top 20 word occurences for each set of data\n",
    "wc_top20 = wc[wc['rank'] <= 20]\n",
    "wc_good_top20= wc_good[wc_good['rank'] <= 20]\n",
    "wc_bad_top20 = wc_bad[wc_bad['rank'] <= 20]\n",
    "\n",
    "fig, axes = plt.subplots(1, 3, figsize=(18, 7))\n",
    "\n",
    "axes[0].set_title('All Reviews')\n",
    "squarify.plot(sizes=wc_top20['pct_total'], label=wc_top20['word'], alpha=.8, ax=axes[0])\n",
    "axes[0].axis('off')\n",
    "\n",
    "axes[1].set_title('Good Reviews')\n",
    "squarify.plot(sizes=wc_good_top20['pct_total'], label=wc_good_top20['word'], alpha=.8, ax=axes[1])\n",
    "axes[1].axis('off')\n",
    "\n",
    "axes[2].set_title('Bad Reviews')\n",
    "squarify.plot(sizes=wc_bad_top20['pct_total'], label=wc_bad_top20['word'], alpha=.8, ax=axes[2])\n",
    "axes[2].axis('off')\n",
    "plt.show()"
   ]
  },
  {
   "cell_type": "code",
   "execution_count": 41,
   "metadata": {},
   "outputs": [],
   "source": [
    "STOP_WORDS = nlp.Defaults.stop_words.union(['coffee', 'place', 'great', 'people', 'food', 'love'])"
   ]
  },
  {
   "cell_type": "code",
   "execution_count": 42,
   "metadata": {},
   "outputs": [],
   "source": [
    "tokens = []\n",
    "\n",
    "\"\"\" Update those tokens w/o stopwords\"\"\"\n",
    "for doc in tokenizer.pipe(shops['review_content'], batch_size=500):\n",
    "    \n",
    "    doc_tokens = []\n",
    "    \n",
    "    for token in doc:\n",
    "        if  (token.text.lower() not in STOP_WORDS) & (token.is_punct == False) & (token.is_space == False) & (token.is_alpha == True):\n",
    "            doc_tokens.append(token.text.lower())\n",
    "\n",
    "    tokens.append(doc_tokens)\n",
    "\n",
    "shops['tokens'] = tokens\n",
    "\n"
   ]
  },
  {
   "cell_type": "code",
   "execution_count": 43,
   "metadata": {},
   "outputs": [
    {
     "data": {
      "image/png": "[encoded data removed]",
      "text/plain": [
       "<Figure size 1296x504 with 3 Axes>"
      ]
     },
     "metadata": {
      "needs_background": "light"
     },
     "output_type": "display_data"
    }
   ],
   "source": [
    "wc = count(shops['tokens'])\n",
    "wc_good = count(shops[shops['good'] == True]['tokens'])\n",
    "wc_bad = count(shops[shops['good'] == False]['tokens'])\n",
    "\n",
    "# Get top 20 word occurences for each set of data\n",
    "wc_top20 = wc[wc['rank'] <= 20]\n",
    "wc_good_top20= wc_good[wc_good['rank'] <= 20]\n",
    "wc_bad_top20 = wc_bad[wc_bad['rank'] <= 20]\n",
    "\n",
    "fig, axes = plt.subplots(1, 3, figsize=(18, 7))\n",
    "\n",
    "axes[0].set_title('All Reviews')\n",
    "squarify.plot(sizes=wc_top20['pct_total'], label=wc_top20['word'], alpha=.8, ax=axes[0])\n",
    "axes[0].axis('off')\n",
    "\n",
    "axes[1].set_title('Good Reviews')\n",
    "squarify.plot(sizes=wc_good_top20['pct_total'], label=wc_good_top20['word'], alpha=.8, ax=axes[1])\n",
    "axes[1].axis('off')\n",
    "\n",
    "axes[2].set_title('Bad Reviews')\n",
    "squarify.plot(sizes=wc_bad_top20['pct_total'], label=wc_bad_top20['word'], alpha=.8, ax=axes[2])\n",
    "axes[2].axis('off')\n",
    "plt.show()"
   ]
  },
  {
   "cell_type": "code",
   "execution_count": 44,
   "metadata": {},
   "outputs": [],
   "source": [
    "from nltk.stem import PorterStemmer\n",
    "\n",
    "ps = PorterStemmer()\n",
    "\n"
   ]
  },
  {
   "cell_type": "code",
   "execution_count": 45,
   "metadata": {},
   "outputs": [
    {
     "name": "stderr",
     "output_type": "stream",
     "text": [
      "/Users/oferbaharav/opt/anaconda3/envs/U4-S1-NLP/lib/python3.7/site-packages/tqdm/std.py:658: FutureWarning: The Panel class is removed from pandas. Accessing it from the top-level namespace will also be removed in the next version\n",
      "  from pandas import Panel\n"
     ]
    }
   ],
   "source": [
    "# Leverage tqdm for progress_apply\n",
    "from tqdm import tqdm\n",
    "tqdm.pandas()"
   ]
  },
  {
   "cell_type": "code",
   "execution_count": 46,
   "metadata": {},
   "outputs": [
    {
     "name": "stderr",
     "output_type": "stream",
     "text": [
      "100%|██████████| 7616/7616 [00:08<00:00, 854.24it/s] \n"
     ]
    },
    {
     "data": {
      "text/html": [
       "<div>\n",
       "<style scoped>\n",
       "    .dataframe tbody tr th:only-of-type {\n",
       "        vertical-align: middle;\n",
       "    }\n",
       "\n",
       "    .dataframe tbody tr th {\n",
       "        vertical-align: top;\n",
       "    }\n",
       "\n",
       "    .dataframe thead th {\n",
       "        text-align: right;\n",
       "    }\n",
       "</style>\n",
       "<table border=\"1\" class=\"dataframe\">\n",
       "  <thead>\n",
       "    <tr style=\"text-align: right;\">\n",
       "      <th></th>\n",
       "      <th>coffee_shop_name</th>\n",
       "      <th>full_review_text</th>\n",
       "      <th>star_rating</th>\n",
       "      <th>review_date</th>\n",
       "      <th>review_content</th>\n",
       "      <th>rating</th>\n",
       "      <th>tokens</th>\n",
       "      <th>good</th>\n",
       "      <th>stems</th>\n",
       "    </tr>\n",
       "  </thead>\n",
       "  <tbody>\n",
       "    <tr>\n",
       "      <th>0</th>\n",
       "      <td>The Factory - Cafe With a Soul</td>\n",
       "      <td>11/25/2016 1 check-in Love love loved the atm...</td>\n",
       "      <td>5.0 star rating</td>\n",
       "      <td>11/25/2016</td>\n",
       "      <td>1 check-in Love love loved the atmosphere! E...</td>\n",
       "      <td>5.0</td>\n",
       "      <td>[loved, corner, shop, ordered, matcha, muy, or...</td>\n",
       "      <td>True</td>\n",
       "      <td>[love, corner, shop, order, matcha, muy, order...</td>\n",
       "    </tr>\n",
       "  </tbody>\n",
       "</table>\n",
       "</div>"
      ],
      "text/plain": [
       "                  coffee_shop_name  \\\n",
       "0  The Factory - Cafe With a Soul    \n",
       "\n",
       "                                    full_review_text        star_rating  \\\n",
       "0   11/25/2016 1 check-in Love love loved the atm...   5.0 star rating    \n",
       "\n",
       "  review_date                                     review_content rating  \\\n",
       "0  11/25/2016    1 check-in Love love loved the atmosphere! E...    5.0   \n",
       "\n",
       "                                              tokens  good  \\\n",
       "0  [loved, corner, shop, ordered, matcha, muy, or...  True   \n",
       "\n",
       "                                               stems  \n",
       "0  [love, corner, shop, order, matcha, muy, order...  "
      ]
     },
     "execution_count": 46,
     "metadata": {},
     "output_type": "execute_result"
    }
   ],
   "source": [
    "# Put in a new column `stems`\n",
    "shops['stems'] = shops.tokens.progress_apply(lambda x: [ps.stem(word) for word in x])\n",
    "shops.head(1)"
   ]
  },
  {
   "cell_type": "code",
   "execution_count": 47,
   "metadata": {},
   "outputs": [],
   "source": [
    "# Wrap it all in a function\n",
    "def get_lemmas(text):\n",
    "\n",
    "    lemmas = []\n",
    "    \n",
    "    doc = nlp(text)\n",
    "    \n",
    "    # Something goes here :P\n",
    "    for token in doc: \n",
    "        if ((token.is_stop == False) and (token.is_punct == False)) and (token.pos_!= 'PRON'):\n",
    "            lemmas.append(token.lemma_)\n",
    "    \n",
    "    return lemmas"
   ]
  },
  {
   "cell_type": "code",
   "execution_count": 48,
   "metadata": {},
   "outputs": [
    {
     "name": "stderr",
     "output_type": "stream",
     "text": [
      "100%|██████████| 7616/7616 [04:33<00:00, 27.83it/s]\n"
     ]
    }
   ],
   "source": [
    "shops['lemmas'] = shops['review_content'].progress_apply(get_lemmas)"
   ]
  },
  {
   "cell_type": "code",
   "execution_count": 57,
   "metadata": {},
   "outputs": [],
   "source": [
    "tokens = []\n",
    "\n",
    "\"\"\" Update those tokens w/o stopwords\"\"\"\n",
    "for doc in tokenizer.pipe(shops['lemmas'].str.join(' '), batch_size=500):\n",
    "    \n",
    "    doc_tokens = []\n",
    "    \n",
    "    for token in doc:\n",
    "        if  (token.text.lower() not in STOP_WORDS) & (token.is_punct == False) & (token.is_space == False) & (token.is_alpha == True):\n",
    "            doc_tokens.append(token.text.lower())\n",
    "\n",
    "    tokens.append(doc_tokens)\n",
    "\n",
    "shops['lemmas'] = tokens"
   ]
  },
  {
   "cell_type": "code",
   "execution_count": 60,
   "metadata": {},
   "outputs": [
    {
     "data": {
      "text/plain": [
       "0    [check, atmosphere, corner, shop, style, swing...\n",
       "1    [list, date, night, austin, ambiance, austin, ...\n",
       "2    [check, list, brunch, spots, eclectic, homey, ...\n",
       "3    [cool, decor, good, drink, nice, seating, over...\n",
       "4    [check, locate, northcross, mall, shopping, ce...\n",
       "Name: lemmas, dtype: object"
      ]
     },
     "execution_count": 60,
     "metadata": {},
     "output_type": "execute_result"
    }
   ],
   "source": [
    "shops.lemmas.head()"
   ]
  },
  {
   "cell_type": "code",
   "execution_count": 75,
   "metadata": {},
   "outputs": [
    {
     "data": {
      "image/png": "[encoded data removed]",
      "text/plain": [
       "<Figure size 1296x504 with 3 Axes>"
      ]
     },
     "metadata": {
      "needs_background": "light"
     },
     "output_type": "display_data"
    }
   ],
   "source": [
    "wc = count(shops['lemmas'])\n",
    "wc_good = count(shops[shops['good'] == True]['lemmas'])\n",
    "wc_bad = count(shops[shops['good'] == False]['lemmas'])\n",
    "\n",
    "# Get top 20 word occurences for each set of data\n",
    "wc_top20 = wc[wc['rank'] <= 20]\n",
    "wc_good_top20= wc_good[wc_good['rank'] <= 20]\n",
    "wc_bad_top20 = wc_bad[wc_bad['rank'] <= 20]\n",
    "\n",
    "fig, axes = plt.subplots(1, 3, figsize=(18, 7))\n",
    "\n",
    "axes[0].set_title('All Reviews')\n",
    "squarify.plot(sizes=wc_top20['pct_total'], label=wc_top20['word'], alpha=.8, ax=axes[0])\n",
    "axes[0].axis('off')\n",
    "\n",
    "axes[1].set_title('Good Reviews')\n",
    "squarify.plot(sizes=wc_good_top20['pct_total'], label=wc_good_top20['word'], alpha=.8, ax=axes[1])\n",
    "axes[1].axis('off')\n",
    "\n",
    "axes[2].set_title('Bad Reviews')\n",
    "squarify.plot(sizes=wc_bad_top20['pct_total'], label=wc_bad_top20['word'], alpha=.8, ax=axes[2])\n",
    "axes[2].axis('off')\n",
    "plt.show()"
   ]
  },
  {
   "cell_type": "code",
   "execution_count": 64,
   "metadata": {},
   "outputs": [
    {
     "data": {
      "image/png": "[encoded data removed]",
      "text/plain": [
       "<Figure size 432x288 with 1 Axes>"
      ]
     },
     "metadata": {
      "needs_background": "light"
     },
     "output_type": "display_data"
    }
   ],
   "source": [
    "sns.lineplot(x='rank', y='cul_pct_total', data=wc);"
   ]
  },
  {
   "cell_type": "code",
   "execution_count": 68,
   "metadata": {},
   "outputs": [
    {
     "data": {
      "text/html": [
       "<div>\n",
       "<style scoped>\n",
       "    .dataframe tbody tr th:only-of-type {\n",
       "        vertical-align: middle;\n",
       "    }\n",
       "\n",
       "    .dataframe tbody tr th {\n",
       "        vertical-align: top;\n",
       "    }\n",
       "\n",
       "    .dataframe thead th {\n",
       "        text-align: right;\n",
       "    }\n",
       "</style>\n",
       "<table border=\"1\" class=\"dataframe\">\n",
       "  <thead>\n",
       "    <tr style=\"text-align: right;\">\n",
       "      <th></th>\n",
       "      <th>word</th>\n",
       "      <th>appears_in</th>\n",
       "      <th>count</th>\n",
       "      <th>rank</th>\n",
       "      <th>pct_total</th>\n",
       "      <th>cul_pct_total</th>\n",
       "      <th>appears_in_pct</th>\n",
       "    </tr>\n",
       "  </thead>\n",
       "  <tbody>\n",
       "    <tr>\n",
       "      <th>150</th>\n",
       "      <td>good</td>\n",
       "      <td>3582</td>\n",
       "      <td>5366</td>\n",
       "      <td>1.0</td>\n",
       "      <td>0.017087</td>\n",
       "      <td>0.017087</td>\n",
       "      <td>0.470326</td>\n",
       "    </tr>\n",
       "    <tr>\n",
       "      <th>7</th>\n",
       "      <td>check</td>\n",
       "      <td>3174</td>\n",
       "      <td>3468</td>\n",
       "      <td>2.0</td>\n",
       "      <td>0.011043</td>\n",
       "      <td>0.028131</td>\n",
       "      <td>0.416754</td>\n",
       "    </tr>\n",
       "    <tr>\n",
       "      <th>142</th>\n",
       "      <td>like</td>\n",
       "      <td>2273</td>\n",
       "      <td>3379</td>\n",
       "      <td>3.0</td>\n",
       "      <td>0.010760</td>\n",
       "      <td>0.038891</td>\n",
       "      <td>0.298451</td>\n",
       "    </tr>\n",
       "    <tr>\n",
       "      <th>357</th>\n",
       "      <td>come</td>\n",
       "      <td>1932</td>\n",
       "      <td>2638</td>\n",
       "      <td>4.0</td>\n",
       "      <td>0.008400</td>\n",
       "      <td>0.047291</td>\n",
       "      <td>0.253676</td>\n",
       "    </tr>\n",
       "    <tr>\n",
       "      <th>433</th>\n",
       "      <td>time</td>\n",
       "      <td>1769</td>\n",
       "      <td>2395</td>\n",
       "      <td>5.0</td>\n",
       "      <td>0.007627</td>\n",
       "      <td>0.054917</td>\n",
       "      <td>0.232274</td>\n",
       "    </tr>\n",
       "    <tr>\n",
       "      <th>...</th>\n",
       "      <td>...</td>\n",
       "      <td>...</td>\n",
       "      <td>...</td>\n",
       "      <td>...</td>\n",
       "      <td>...</td>\n",
       "      <td>...</td>\n",
       "      <td>...</td>\n",
       "    </tr>\n",
       "    <tr>\n",
       "      <th>104</th>\n",
       "      <td>brew</td>\n",
       "      <td>464</td>\n",
       "      <td>618</td>\n",
       "      <td>96.0</td>\n",
       "      <td>0.001968</td>\n",
       "      <td>0.349152</td>\n",
       "      <td>0.060924</td>\n",
       "    </tr>\n",
       "    <tr>\n",
       "      <th>480</th>\n",
       "      <td>option</td>\n",
       "      <td>543</td>\n",
       "      <td>612</td>\n",
       "      <td>97.0</td>\n",
       "      <td>0.001949</td>\n",
       "      <td>0.351101</td>\n",
       "      <td>0.071297</td>\n",
       "    </tr>\n",
       "    <tr>\n",
       "      <th>823</th>\n",
       "      <td>customer</td>\n",
       "      <td>462</td>\n",
       "      <td>605</td>\n",
       "      <td>98.0</td>\n",
       "      <td>0.001927</td>\n",
       "      <td>0.353028</td>\n",
       "      <td>0.060662</td>\n",
       "    </tr>\n",
       "    <tr>\n",
       "      <th>1120</th>\n",
       "      <td>local</td>\n",
       "      <td>517</td>\n",
       "      <td>595</td>\n",
       "      <td>99.0</td>\n",
       "      <td>0.001895</td>\n",
       "      <td>0.354922</td>\n",
       "      <td>0.067883</td>\n",
       "    </tr>\n",
       "    <tr>\n",
       "      <th>112</th>\n",
       "      <td>cold</td>\n",
       "      <td>465</td>\n",
       "      <td>589</td>\n",
       "      <td>100.0</td>\n",
       "      <td>0.001876</td>\n",
       "      <td>0.356798</td>\n",
       "      <td>0.061056</td>\n",
       "    </tr>\n",
       "  </tbody>\n",
       "</table>\n",
       "<p>100 rows × 7 columns</p>\n",
       "</div>"
      ],
      "text/plain": [
       "          word  appears_in  count   rank  pct_total  cul_pct_total  \\\n",
       "150       good        3582   5366    1.0   0.017087       0.017087   \n",
       "7        check        3174   3468    2.0   0.011043       0.028131   \n",
       "142       like        2273   3379    3.0   0.010760       0.038891   \n",
       "357       come        1932   2638    4.0   0.008400       0.047291   \n",
       "433       time        1769   2395    5.0   0.007627       0.054917   \n",
       "...        ...         ...    ...    ...        ...            ...   \n",
       "104       brew         464    618   96.0   0.001968       0.349152   \n",
       "480     option         543    612   97.0   0.001949       0.351101   \n",
       "823   customer         462    605   98.0   0.001927       0.353028   \n",
       "1120     local         517    595   99.0   0.001895       0.354922   \n",
       "112       cold         465    589  100.0   0.001876       0.356798   \n",
       "\n",
       "      appears_in_pct  \n",
       "150         0.470326  \n",
       "7           0.416754  \n",
       "142         0.298451  \n",
       "357         0.253676  \n",
       "433         0.232274  \n",
       "...              ...  \n",
       "104         0.060924  \n",
       "480         0.071297  \n",
       "823         0.060662  \n",
       "1120        0.067883  \n",
       "112         0.061056  \n",
       "\n",
       "[100 rows x 7 columns]"
      ]
     },
     "execution_count": 68,
     "metadata": {},
     "output_type": "execute_result"
    }
   ],
   "source": [
    "wc.head(100)"
   ]
  },
  {
   "cell_type": "code",
   "execution_count": 69,
   "metadata": {},
   "outputs": [
    {
     "data": {
      "text/plain": [
       "count    13180.000000\n",
       "mean         0.002686\n",
       "std          0.012798\n",
       "min          0.000131\n",
       "25%          0.000131\n",
       "50%          0.000263\n",
       "75%          0.000919\n",
       "max          0.470326\n",
       "Name: appears_in_pct, dtype: float64"
      ]
     },
     "execution_count": 69,
     "metadata": {},
     "output_type": "execute_result"
    }
   ],
   "source": [
    "wc['appears_in_pct'].describe()"
   ]
  },
  {
   "cell_type": "code",
   "execution_count": 70,
   "metadata": {},
   "outputs": [
    {
     "data": {
      "image/png": "[encoded data removed]",
      "text/plain": [
       "<Figure size 432x288 with 1 Axes>"
      ]
     },
     "metadata": {
      "needs_background": "light"
     },
     "output_type": "display_data"
    }
   ],
   "source": [
    "# Frequency of appears in documents\n",
    "sns.distplot(wc['appears_in_pct']);"
   ]
  },
  {
   "cell_type": "code",
   "execution_count": 84,
   "metadata": {},
   "outputs": [
    {
     "name": "stdout",
     "output_type": "stream",
     "text": [
      "(13180, 7)\n",
      "(285, 7)\n"
     ]
    },
    {
     "data": {
      "image/png": "[encoded data removed]",
      "text/plain": [
       "<Figure size 432x288 with 1 Axes>"
      ]
     },
     "metadata": {
      "needs_background": "light"
     },
     "output_type": "display_data"
    }
   ],
   "source": [
    "# Tree-Map w/ Words that appear in a least 2.5% of documents. \n",
    "\n",
    "print(wc.shape)\n",
    "wc25 = wc[wc['appears_in_pct'] >= 0.025]\n",
    "print(wc25.shape)\n",
    "\n",
    "sns.distplot(wc25['appears_in_pct']);"
   ]
  },
  {
   "cell_type": "code",
   "execution_count": 80,
   "metadata": {},
   "outputs": [
    {
     "data": {
      "text/html": [
       "<div>\n",
       "<style scoped>\n",
       "    .dataframe tbody tr th:only-of-type {\n",
       "        vertical-align: middle;\n",
       "    }\n",
       "\n",
       "    .dataframe tbody tr th {\n",
       "        vertical-align: top;\n",
       "    }\n",
       "\n",
       "    .dataframe thead th {\n",
       "        text-align: right;\n",
       "    }\n",
       "</style>\n",
       "<table border=\"1\" class=\"dataframe\">\n",
       "  <thead>\n",
       "    <tr style=\"text-align: right;\">\n",
       "      <th></th>\n",
       "      <th>word</th>\n",
       "      <th>appears_in</th>\n",
       "      <th>count</th>\n",
       "      <th>rank</th>\n",
       "      <th>pct_total</th>\n",
       "      <th>cul_pct_total</th>\n",
       "      <th>appears_in_pct</th>\n",
       "    </tr>\n",
       "  </thead>\n",
       "  <tbody>\n",
       "    <tr>\n",
       "      <th>150</th>\n",
       "      <td>good</td>\n",
       "      <td>3582</td>\n",
       "      <td>5366</td>\n",
       "      <td>1.0</td>\n",
       "      <td>0.017087</td>\n",
       "      <td>0.017087</td>\n",
       "      <td>0.470326</td>\n",
       "    </tr>\n",
       "    <tr>\n",
       "      <th>7</th>\n",
       "      <td>check</td>\n",
       "      <td>3174</td>\n",
       "      <td>3468</td>\n",
       "      <td>2.0</td>\n",
       "      <td>0.011043</td>\n",
       "      <td>0.028131</td>\n",
       "      <td>0.416754</td>\n",
       "    </tr>\n",
       "    <tr>\n",
       "      <th>142</th>\n",
       "      <td>like</td>\n",
       "      <td>2273</td>\n",
       "      <td>3379</td>\n",
       "      <td>3.0</td>\n",
       "      <td>0.010760</td>\n",
       "      <td>0.038891</td>\n",
       "      <td>0.298451</td>\n",
       "    </tr>\n",
       "    <tr>\n",
       "      <th>357</th>\n",
       "      <td>come</td>\n",
       "      <td>1932</td>\n",
       "      <td>2638</td>\n",
       "      <td>4.0</td>\n",
       "      <td>0.008400</td>\n",
       "      <td>0.047291</td>\n",
       "      <td>0.253676</td>\n",
       "    </tr>\n",
       "    <tr>\n",
       "      <th>433</th>\n",
       "      <td>time</td>\n",
       "      <td>1769</td>\n",
       "      <td>2395</td>\n",
       "      <td>5.0</td>\n",
       "      <td>0.007627</td>\n",
       "      <td>0.054917</td>\n",
       "      <td>0.232274</td>\n",
       "    </tr>\n",
       "  </tbody>\n",
       "</table>\n",
       "</div>"
      ],
      "text/plain": [
       "      word  appears_in  count  rank  pct_total  cul_pct_total  appears_in_pct\n",
       "150   good        3582   5366   1.0   0.017087       0.017087        0.470326\n",
       "7    check        3174   3468   2.0   0.011043       0.028131        0.416754\n",
       "142   like        2273   3379   3.0   0.010760       0.038891        0.298451\n",
       "357   come        1932   2638   4.0   0.008400       0.047291        0.253676\n",
       "433   time        1769   2395   5.0   0.007627       0.054917        0.232274"
      ]
     },
     "execution_count": 80,
     "metadata": {},
     "output_type": "execute_result"
    }
   ],
   "source": [
    "wc25.head()"
   ]
  },
  {
   "cell_type": "code",
   "execution_count": 49,
   "metadata": {},
   "outputs": [],
   "source": [
    "# How do we want to analyze these coffee shop tokens?\n",
    "# Overall Word / Token Count\n",
    "# View Counts by Rating\n",
    "# Hint: a 'bad' coffee shops has a rating betweeen 1 & 3 based on the distribution of ratings. A 'good' coffee shop is a 4 or 5.\n",
    "\n",
    "# Can visualize the words with the greatest difference in counts between 'good' & 'bad'?\n",
    "# Couple Notes:\n",
    "\n",
    "# Rel. freq. instead of absolute counts b/c of different numbers of reviews\n",
    "# Only look at the top 5-10 words with the greatest differences\n",
    "\n",
    "# Stretch Goals\n",
    "# Analyze another corpus of documents - such as Indeed.com job listings ;).\n",
    "# Play with the Spacy API to\n",
    "# Extract Named Entities\n",
    "# Extracting 'noun chunks'\n",
    "# Attempt Document Classification with just Spacy\n",
    "# Note: This course will be of interesting in helping you with these stretch goals.\n",
    "# Try to build a plotly dash app with your text data"
   ]
  },
  {
   "cell_type": "code",
   "execution_count": null,
   "metadata": {},
   "outputs": [],
   "source": []
  }
 ],
 "metadata": {
  "kernelspec": {
   "display_name": "U4-S1-NLP (Python3)",
   "language": "python",
   "name": "u4-s1-nlp"
  },
  "language_info": {
   "codemirror_mode": {
    "name": "ipython",
    "version": 3
   },
   "file_extension": ".py",
   "mimetype": "text/x-python",
   "name": "python",
   "nbconvert_exporter": "python",
   "pygments_lexer": "ipython3",
   "version": "3.7.0"
  }
 },
 "nbformat": 4,
 "nbformat_minor": 4
}
