{
 "cells": [
  {
   "cell_type": "markdown",
   "metadata": {},
   "source": [
    "<img align=\"left\" src=\"https://lever-client-logos.s3.amazonaws.com/864372b1-534c-480e-acd5-9711f850815c-1524247202159.png\" width=200>\n",
    "<br></br>\n",
    "\n",
    "# Vector Representations\n",
    "## *Data Science Unit 4 Sprint 1 Assignment 2*"
   ]
  },
  {
   "cell_type": "code",
   "execution_count": 1,
   "metadata": {
    "colab": {
     "base_uri": "https://localhost:8080/",
     "height": 159
    },
    "colab_type": "code",
    "id": "hyj-f9FDcVFp",
    "outputId": "5dd045fe-6e4c-458c-e2fc-253c3da9c805"
   },
   "outputs": [],
   "source": [
    "import re\n",
    "import string\n",
    "\n",
    "from sklearn.feature_extraction.text import CountVectorizer, TfidfVectorizer\n",
    "import matplotlib.pyplot as plt\n",
    "import pandas as pd\n",
    "import numpy as np\n",
    "import spacy\n",
    "\n",
    "from bs4 import BeautifulSoup"
   ]
  },
  {
   "cell_type": "markdown",
   "metadata": {
    "colab_type": "text",
    "id": "M7bcmqfGXrFG"
   },
   "source": [
    "## 1) *Clean:* Job Listings from indeed.com that contain the title \"Data Scientist\" \n",
    "\n",
    "You have `job_listings.csv` in the data folder for this module. The text data in the description column is still messy - full of html tags. Use the [BeautifulSoup](https://www.crummy.com/software/BeautifulSoup/bs4/doc/) library to clean up this column. You will need to read through the documentation to accomplish this task. "
   ]
  },
  {
   "cell_type": "code",
   "execution_count": 14,
   "metadata": {
    "colab": {},
    "colab_type": "code",
    "id": "KcYlc1URXhlC"
   },
   "outputs": [],
   "source": [
    "from bs4 import BeautifulSoup\n",
    "import requests\n",
    "\n",
    "##### Your Code Here #####\n",
    "data = pd.read_csv('./data/job_listings.csv')  \n"
   ]
  },
  {
   "cell_type": "code",
   "execution_count": 36,
   "metadata": {
    "colab": {},
    "colab_type": "code",
    "id": "KcYlc1URXhlC"
   },
   "outputs": [
    {
     "data": {
      "text/html": [
       "<div>\n",
       "<style scoped>\n",
       "    .dataframe tbody tr th:only-of-type {\n",
       "        vertical-align: middle;\n",
       "    }\n",
       "\n",
       "    .dataframe tbody tr th {\n",
       "        vertical-align: top;\n",
       "    }\n",
       "\n",
       "    .dataframe thead th {\n",
       "        text-align: right;\n",
       "    }\n",
       "</style>\n",
       "<table border=\"1\" class=\"dataframe\">\n",
       "  <thead>\n",
       "    <tr style=\"text-align: right;\">\n",
       "      <th></th>\n",
       "      <th>Unnamed: 0</th>\n",
       "      <th>description</th>\n",
       "      <th>title</th>\n",
       "    </tr>\n",
       "  </thead>\n",
       "  <tbody>\n",
       "    <tr>\n",
       "      <th>0</th>\n",
       "      <td>0</td>\n",
       "      <td>b\"&lt;div&gt;&lt;div&gt;Job Requirements:&lt;/div&gt;&lt;ul&gt;&lt;li&gt;&lt;p&gt;\\nConceptual understanding in Machine Learning models like Nai\\xc2\\xa8ve Bayes, K-Means, SVM, Apriori, Linear/ Logistic Regression, Neural, Random Forests, Decision Trees, K-NN along with hands-on experience in at least 2 of them&lt;/p&gt;\\n&lt;/li&gt;&lt;li&gt;&lt;p&gt;Intermediate to expert level coding skills in Python/R. (Ability to write functions, clean and efficient data manipulation are mandatory for this role)&lt;/p&gt;\\n&lt;/li&gt;&lt;li&gt;&lt;p&gt;Exposure to packages like NumPy, SciPy, Pandas, Matplotlib etc in Python or GGPlot2, dplyr, tidyR in R&lt;/p&gt;\\n&lt;/li&gt;&lt;li&gt;&lt;p&gt;Ability to communicate Model findings to both Technical and Non-Technical stake holders&lt;/p&gt;\\n&lt;/li&gt;&lt;li&gt;&lt;p&gt;Hands on experience in SQL/Hive or similar programming language&lt;/p&gt;\\n&lt;/li&gt;&lt;li&gt;&lt;p&gt;Must show past work via GitHub, Kaggle or any other published article&lt;/p&gt;\\n&lt;/li&gt;&lt;li&gt;&lt;p&gt;Master's degree in Statistics/Mathematics/Computer Science or any other quant specific field.&lt;/p&gt;&lt;/li&gt;&lt;/ul&gt;&lt;div&gt;&lt;div&gt;&lt;div&gt;&lt;div&gt;&lt;div&gt;&lt;div&gt;\\nApply Now&lt;/div&gt;&lt;/div&gt;&lt;/div&gt;&lt;/div&gt;&lt;/div&gt;&lt;/div&gt;&lt;/div&gt;&lt;div&gt;&lt;/div&gt;\"</td>\n",
       "      <td>Data scientist</td>\n",
       "    </tr>\n",
       "  </tbody>\n",
       "</table>\n",
       "</div>"
      ],
      "text/plain": [
       "   Unnamed: 0  \\\n",
       "0  0            \n",
       "\n",
       "                                                                                                                                                                                                                                                                                                                                                                                                                                                                                                                                                                                                                                                                                                                                                                                                                                                                                                                                                                                                                                                                                         description  \\\n",
       "0  b\"<div><div>Job Requirements:</div><ul><li><p>\\nConceptual understanding in Machine Learning models like Nai\\xc2\\xa8ve Bayes, K-Means, SVM, Apriori, Linear/ Logistic Regression, Neural, Random Forests, Decision Trees, K-NN along with hands-on experience in at least 2 of them</p>\\n</li><li><p>Intermediate to expert level coding skills in Python/R. (Ability to write functions, clean and efficient data manipulation are mandatory for this role)</p>\\n</li><li><p>Exposure to packages like NumPy, SciPy, Pandas, Matplotlib etc in Python or GGPlot2, dplyr, tidyR in R</p>\\n</li><li><p>Ability to communicate Model findings to both Technical and Non-Technical stake holders</p>\\n</li><li><p>Hands on experience in SQL/Hive or similar programming language</p>\\n</li><li><p>Must show past work via GitHub, Kaggle or any other published article</p>\\n</li><li><p>Master's degree in Statistics/Mathematics/Computer Science or any other quant specific field.</p></li></ul><div><div><div><div><div><div>\\nApply Now</div></div></div></div></div></div></div><div></div>\"   \n",
       "\n",
       "             title  \n",
       "0  Data scientist   "
      ]
     },
     "execution_count": 36,
     "metadata": {},
     "output_type": "execute_result"
    }
   ],
   "source": [
    "pd.set_option('max_colwidth', 0)\n",
    "data.head(1)"
   ]
  },
  {
   "cell_type": "code",
   "execution_count": 162,
   "metadata": {
    "colab": {},
    "colab_type": "code",
    "id": "KcYlc1URXhlC"
   },
   "outputs": [],
   "source": [
    "\n",
    "\n",
    "cleaned_text = []\n",
    "\n",
    "\"\"\" Make souped \"\"\"\n",
    "for description in data.description:\n",
    "    soup = BeautifulSoup(description)\n",
    "    text = soup.get_text(strip=True)\n",
    "    text = re.sub(\"\\\\\\\\n\", ' ', text)\n",
    "    #noticed below that commas were left out so stripping them\n",
    "    text = re.sub(r'[,.!?():;]', '', text)\n",
    "    text = re.sub(r'/', ' ', text)\n",
    "    cleaned_text.append(text)\n",
    "\n",
    "data['cleaned_text'] = cleaned_text"
   ]
  },
  {
   "cell_type": "code",
   "execution_count": 163,
   "metadata": {
    "colab": {},
    "colab_type": "code",
    "id": "KcYlc1URXhlC"
   },
   "outputs": [
    {
     "data": {
      "text/html": [
       "<div>\n",
       "<style scoped>\n",
       "    .dataframe tbody tr th:only-of-type {\n",
       "        vertical-align: middle;\n",
       "    }\n",
       "\n",
       "    .dataframe tbody tr th {\n",
       "        vertical-align: top;\n",
       "    }\n",
       "\n",
       "    .dataframe thead th {\n",
       "        text-align: right;\n",
       "    }\n",
       "</style>\n",
       "<table border=\"1\" class=\"dataframe\">\n",
       "  <thead>\n",
       "    <tr style=\"text-align: right;\">\n",
       "      <th></th>\n",
       "      <th>Unnamed: 0</th>\n",
       "      <th>description</th>\n",
       "      <th>title</th>\n",
       "      <th>cleaned_text</th>\n",
       "      <th>tokens</th>\n",
       "    </tr>\n",
       "  </thead>\n",
       "  <tbody>\n",
       "    <tr>\n",
       "      <th>0</th>\n",
       "      <td>0</td>\n",
       "      <td>b\"&lt;div&gt;&lt;div&gt;Job Requirements:&lt;/div&gt;&lt;ul&gt;&lt;li&gt;&lt;p&gt;\\nConceptual understanding in Machine Learning models like Nai\\xc2\\xa8ve Bayes, K-Means, SVM, Apriori, Linear/ Logistic Regression, Neural, Random Forests, Decision Trees, K-NN along with hands-on experience in at least 2 of them&lt;/p&gt;\\n&lt;/li&gt;&lt;li&gt;&lt;p&gt;Intermediate to expert level coding skills in Python/R. (Ability to write functions, clean and efficient data manipulation are mandatory for this role)&lt;/p&gt;\\n&lt;/li&gt;&lt;li&gt;&lt;p&gt;Exposure to packages like NumPy, SciPy, Pandas, Matplotlib etc in Python or GGPlot2, dplyr, tidyR in R&lt;/p&gt;\\n&lt;/li&gt;&lt;li&gt;&lt;p&gt;Ability to communicate Model findings to both Technical and Non-Technical stake holders&lt;/p&gt;\\n&lt;/li&gt;&lt;li&gt;&lt;p&gt;Hands on experience in SQL/Hive or similar programming language&lt;/p&gt;\\n&lt;/li&gt;&lt;li&gt;&lt;p&gt;Must show past work via GitHub, Kaggle or any other published article&lt;/p&gt;\\n&lt;/li&gt;&lt;li&gt;&lt;p&gt;Master's degree in Statistics/Mathematics/Computer Science or any other quant specific field.&lt;/p&gt;&lt;/li&gt;&lt;/ul&gt;&lt;div&gt;&lt;div&gt;&lt;div&gt;&lt;div&gt;&lt;div&gt;&lt;div&gt;\\nApply Now&lt;/div&gt;&lt;/div&gt;&lt;/div&gt;&lt;/div&gt;&lt;/div&gt;&lt;/div&gt;&lt;/div&gt;&lt;div&gt;&lt;/div&gt;\"</td>\n",
       "      <td>Data scientist</td>\n",
       "      <td>b\"Job Requirements Conceptual understanding in Machine Learning models like Nai\\xc2\\xa8ve Bayes K-Means SVM Apriori Linear  Logistic Regression Neural Random Forests Decision Trees K-NN along with hands-on experience in at least 2 of them Intermediate to expert level coding skills in Python R Ability to write functions clean and efficient data manipulation are mandatory for this role Exposure to packages like NumPy SciPy Pandas Matplotlib etc in Python or GGPlot2 dplyr tidyR in R Ability to communicate Model findings to both Technical and Non-Technical stake holders Hands on experience in SQL Hive or similar programming language Must show past work via GitHub Kaggle or any other published article Master's degree in Statistics Mathematics Computer Science or any other quant specific field Apply Now\"</td>\n",
       "      <td>[b\"Job, Requirements:, Conceptual, understand, Machine, Learning, model, like, Nai\\xc2\\xa8ve, Bayes, K-Means, SVM, Apriori, Linear,  , Logistic, Regression, Neural, Random, Forests, Decision, Trees, K-NN, hands-on, experience, 2, Intermediate, expert, level, code, skill, Python, R, Ability, write, function, clean, efficient, datum, manipulation, mandatory, role, Exposure, package, like, NumPy, SciPy, Pandas, Matplotlib, etc, Python, GGPlot2, dplyr, tidyR, R, Ability, communicate, Model, finding, Technical, Non-Technical, stake, holder, Hands, experience, SQL, Hive, similar, programme, language, past, work, GitHub, Kaggle, publish, article, Master's, degree, Statistics, Mathematics, Computer, Science, quant, specific, field, Apply, Now\"]</td>\n",
       "    </tr>\n",
       "    <tr>\n",
       "      <th>1</th>\n",
       "      <td>1</td>\n",
       "      <td>b'&lt;div&gt;Job Description&lt;br/&gt;\\n&lt;br/&gt;\\n&lt;p&gt;As a Data Scientist 1, you will help us build machine learning models, data pipelines, and micro-services to help our clients navigate their healthcare journey. You will do so by empowering and improving the next generation of Accolade Applications and user experiences.&lt;/p&gt;&lt;p&gt;&lt;b&gt;\\nA day in the life\\xe2\\x80\\xa6&lt;/b&gt;&lt;/p&gt;&lt;ul&gt;&lt;li&gt;\\nWork with a small agile team to design and develop mobile applications in an iterative fashion.&lt;/li&gt;&lt;li&gt;\\nWork with a tight-knit group of development team members in Seattle.&lt;/li&gt;&lt;li&gt;\\nContribute to best practices and help guide the future of our applications.&lt;/li&gt;&lt;li&gt;\\nOperates effectively as a collaborative member of the development team.&lt;/li&gt;&lt;li&gt;\\nOperates effectively as an individual for quick turnaround of enhancements and fixes.&lt;/li&gt;&lt;li&gt;\\nResponsible for meeting expectations and deliverables on time with high quality.&lt;/li&gt;&lt;li&gt;\\nDrive and implement new features within our mobile applications.&lt;/li&gt;&lt;li&gt;\\nPerform thorough manual testing and writing test cases that cover all areas.&lt;/li&gt;&lt;li&gt;\\nIdentify new development tools/approaches that will increase code quality, efficiency, and best practices.&lt;/li&gt;&lt;li&gt;\\nDevelop and champion the the development processes, coding style guidelines, and architectural designs necessary to innovate and maintain great product quality.&lt;/li&gt;&lt;li&gt;\\nEffectively turns design documents and graphics into performant, usable UI.&lt;/li&gt;&lt;li&gt;\\nDemonstrates creative, technical, and analytical skills.&lt;/li&gt;&lt;li&gt;\\nDemonstrates ability to communicate effectively in both technical and business environments&lt;/li&gt;&lt;/ul&gt;&lt;/div&gt;\\n&lt;br/&gt;\\n&lt;div&gt;Qualifications&lt;br/&gt;\\n&lt;br/&gt;\\n&lt;p&gt;&lt;b&gt;What we are looking for\\xe2\\x80\\xa6&lt;/b&gt;&lt;/p&gt;&lt;ul&gt;&lt;li&gt;\\nMaster\\xe2\\x80\\x99s Degree in Computer Science, Math, or related field.&lt;/li&gt;&lt;li&gt;\\nComputer Science fundamentals, as illustrated through algorithm design, problem solving, and complexity analysis.&lt;/li&gt;&lt;li&gt;\\nMust have 1+ year real-world experience developing and deploying micro-services or data pipelines&lt;/li&gt;&lt;li&gt;\\nMust have a fundamental understanding of key machine learning concepts, such as accuracy measures, cross-validation, and open source machine learning libraries&lt;/li&gt;&lt;li&gt;\\nFluent in Python and SQL&lt;/li&gt;&lt;li&gt;\\nProficient with writing unit/functional tests and familiar with automation frameworks&lt;/li&gt;&lt;li&gt;\\nExperience with cloud infrastructure, such as AWS or Azure, is a plus.&lt;/li&gt;&lt;li&gt;\\nExperience with distributed data pipelines, such as a Spark, is a plus.&lt;/li&gt;&lt;li&gt;\\nStrong written and oral communication skills.&lt;/li&gt;&lt;li&gt;\\nDesire and willingness to work in an Agile, collaborative, innovative, flexible, and team-oriented environment&lt;/li&gt;&lt;li&gt;\\nHands-on, detail-oriented, methodical &amp;amp; inquisitive&lt;/li&gt;&lt;li&gt;\\nA motivated self-starter with a solid level of experience that quickly grasps complex challenges&lt;/li&gt;&lt;li&gt;\\nA skillful communicator with experience working with technical management teams&lt;/li&gt;&lt;li&gt;\\n A service oriented person who thinks \"Customer First\"&lt;/li&gt;&lt;li&gt;\\nFast fail entrepreneurial spirit&lt;/li&gt;&lt;li&gt;\\nThrives in a fast-paced environment where continuous improvement is the norm and the bar for quality is extremely high&lt;/li&gt;&lt;li&gt;\\nExcited by the challenges of working in a product team undergoing rapid, international growth&lt;/li&gt;&lt;/ul&gt;&lt;br/&gt;\\nAdditional Information&lt;br/&gt;\\n&lt;br/&gt;\\n&lt;p&gt;&lt;b&gt;What is important to us&lt;/b&gt;&lt;/p&gt;&lt;p&gt;\\nCreating an enduring company that is hyper-focused on our culture and making a meaningful impact in the lives of our employees, members and customers. The secret to our success is:&lt;/p&gt;&lt;p&gt;&lt;b&gt;\\nWe find joy and purpose in serving others&lt;/b&gt;&lt;/p&gt;&lt;p&gt;\\nMaking a difference in our members\\xe2\\x80\\x99 and customers\\xe2\\x80\\x99 lives is what we do. Even when it\\xe2\\x80\\x99s hard, we do the right thing for the right reasons.&lt;/p&gt;&lt;p&gt;&lt;b&gt;\\nWe are strong individually and together, we\\xe2\\x80\\x99re powerful&lt;/b&gt;&lt;/p&gt;&lt;p&gt;\\nTrusting in our colleagues and embracing their different backgrounds and experiences enable us to solve tough problems in creative ways, having fun along the way.&lt;/p&gt;&lt;p&gt;&lt;b&gt;\\nWe roll up our sleeves and get stuff done&lt;/b&gt;&lt;/p&gt;&lt;p&gt;\\nResults motivate us. And we aren\\'t afraid of the hard work or tough decisions needed to get us there.&lt;/p&gt;&lt;p&gt;&lt;b&gt;\\nWe\\xe2\\x80\\x99re boldly and relentlessly reinventing healthcare&lt;/b&gt;&lt;/p&gt;&lt;p&gt;\\nWe\\'re curious and act big - not afraid to knock down barriers or take calculated risks to change the world, one person at a time.&lt;/p&gt;&lt;p&gt;\\nAll your information will be kept confidential according to EEO guidelines.&lt;/p&gt;&lt;/div&gt;'</td>\n",
       "      <td>Data Scientist I</td>\n",
       "      <td>b'Job Description  As a Data Scientist 1 you will help us build machine learning models data pipelines and micro-services to help our clients navigate their healthcare journey You will do so by empowering and improving the next generation of Accolade Applications and user experiences A day in the life\\xe2\\x80\\xa6 Work with a small agile team to design and develop mobile applications in an iterative fashion Work with a tight-knit group of development team members in Seattle Contribute to best practices and help guide the future of our applications Operates effectively as a collaborative member of the development team Operates effectively as an individual for quick turnaround of enhancements and fixes Responsible for meeting expectations and deliverables on time with high quality Drive and implement new features within our mobile applications Perform thorough manual testing and writing test cases that cover all areas Identify new development tools approaches that will increase code quality efficiency and best practices Develop and champion the the development processes coding style guidelines and architectural designs necessary to innovate and maintain great product quality Effectively turns design documents and graphics into performant usable UI Demonstrates creative technical and analytical skills Demonstrates ability to communicate effectively in both technical and business environments  Qualifications  What we are looking for\\xe2\\x80\\xa6 Master\\xe2\\x80\\x99s Degree in Computer Science Math or related field Computer Science fundamentals as illustrated through algorithm design problem solving and complexity analysis Must have 1+ year real-world experience developing and deploying micro-services or data pipelines Must have a fundamental understanding of key machine learning concepts such as accuracy measures cross-validation and open source machine learning libraries Fluent in Python and SQL Proficient with writing unit functional tests and familiar with automation frameworks Experience with cloud infrastructure such as AWS or Azure is a plus Experience with distributed data pipelines such as a Spark is a plus Strong written and oral communication skills Desire and willingness to work in an Agile collaborative innovative flexible and team-oriented environment Hands-on detail-oriented methodical &amp; inquisitive A motivated self-starter with a solid level of experience that quickly grasps complex challenges A skillful communicator with experience working with technical management teams  A service oriented person who thinks \"Customer First\" Fast fail entrepreneurial spirit Thrives in a fast-paced environment where continuous improvement is the norm and the bar for quality is extremely high Excited by the challenges of working in a product team undergoing rapid international growth Additional Information  What is important to us Creating an enduring company that is hyper-focused on our culture and making a meaningful impact in the lives of our employees members and customers The secret to our success is We find joy and purpose in serving others Making a difference in our members\\xe2\\x80\\x99 and customers\\xe2\\x80\\x99 lives is what we do Even when it\\xe2\\x80\\x99s hard we do the right thing for the right reasons We are strong individually and together we\\xe2\\x80\\x99re powerful Trusting in our colleagues and embracing their different backgrounds and experiences enable us to solve tough problems in creative ways having fun along the way We roll up our sleeves and get stuff done Results motivate us And we aren\\'t afraid of the hard work or tough decisions needed to get us there We\\xe2\\x80\\x99re boldly and relentlessly reinventing healthcare We\\'re curious and act big - not afraid to knock down barriers or take calculated risks to change the world one person at a time All your information will be kept confidential according to EEO guidelines'</td>\n",
       "      <td>[b'Job, Description,  , Data, Scientist, 1, help, build, machine, learn, model, datum, pipeline, micro-services, help, client, navigate, healthcare, journey, empower, improve, generation, Accolade, Applications, user, experience, day, life\\xe2\\x80\\xa6, Work, small, agile, team, design, develop, mobile, application, iterative, fashion, Work, tight-knit, group, development, team, member, Seattle, Contribute, well, practice, help, guide, future, application, Operates, effectively, collaborative, member, development, team, Operates, effectively, individual, quick, turnaround, enhancement, fix, Responsible, meet, expectation, deliverable, time, high, quality, Drive, implement, new, feature, mobile, application, Perform, thorough, manual, test, write, test, case, cover, area, Identify, new, development, tool, approach, increase, code, quality, efficiency, well, practice, Develop, champion, ...]</td>\n",
       "    </tr>\n",
       "  </tbody>\n",
       "</table>\n",
       "</div>"
      ],
      "text/plain": [
       "   Unnamed: 0  \\\n",
       "0  0            \n",
       "1  1            \n",
       "\n",
       "                                                                                                                                                                                                                                                                                                                                                                                                                                                                                                                                                                                                                                                                                                                                                                                                                                                                                                                                                                                                                                                                                                                                                                                                                                                                                                                                                                                                                                                                                                                                                                                                                                                                                                                                                                                                                                                                                                                                                                                                                                                                                                                                                                                                                                                                                                                                                                                                                                                                                                                                                                                                                                                                                                                                                                                                                                                                                                                                                                                                                                                                                                                                                                                                                                                                                                                                                                                                                                                                                                                                                                                                                                                                                                                                                                                                                                                                                                                                                                                                                                                                                                                                                                                                                                                                                                                                                                                                                                                                                                                                                                                                                                                                                        description  \\\n",
       "0  b\"<div><div>Job Requirements:</div><ul><li><p>\\nConceptual understanding in Machine Learning models like Nai\\xc2\\xa8ve Bayes, K-Means, SVM, Apriori, Linear/ Logistic Regression, Neural, Random Forests, Decision Trees, K-NN along with hands-on experience in at least 2 of them</p>\\n</li><li><p>Intermediate to expert level coding skills in Python/R. (Ability to write functions, clean and efficient data manipulation are mandatory for this role)</p>\\n</li><li><p>Exposure to packages like NumPy, SciPy, Pandas, Matplotlib etc in Python or GGPlot2, dplyr, tidyR in R</p>\\n</li><li><p>Ability to communicate Model findings to both Technical and Non-Technical stake holders</p>\\n</li><li><p>Hands on experience in SQL/Hive or similar programming language</p>\\n</li><li><p>Must show past work via GitHub, Kaggle or any other published article</p>\\n</li><li><p>Master's degree in Statistics/Mathematics/Computer Science or any other quant specific field.</p></li></ul><div><div><div><div><div><div>\\nApply Now</div></div></div></div></div></div></div><div></div>\"                                                                                                                                                                                                                                                                                                                                                                                                                                                                                                                                                                                                                                                                                                                                                                                                                                                                                                                                                                                                                                                                                                                                                                                                                                                                                                                                                                                                                                                                                                                                                                                                                                                                                                                                                                                                                                                                                                                                                                                                                                                                                                                                                                                                                                                                                                                                                                                                                                                                                                                                                                                                                                                                                                                                                                                                                                                                                                                                                                                                                                                                                                                                                                                                                                                                                                                                                                                                                                                                                                                                                                                                  \n",
       "1  b'<div>Job Description<br/>\\n<br/>\\n<p>As a Data Scientist 1, you will help us build machine learning models, data pipelines, and micro-services to help our clients navigate their healthcare journey. You will do so by empowering and improving the next generation of Accolade Applications and user experiences.</p><p><b>\\nA day in the life\\xe2\\x80\\xa6</b></p><ul><li>\\nWork with a small agile team to design and develop mobile applications in an iterative fashion.</li><li>\\nWork with a tight-knit group of development team members in Seattle.</li><li>\\nContribute to best practices and help guide the future of our applications.</li><li>\\nOperates effectively as a collaborative member of the development team.</li><li>\\nOperates effectively as an individual for quick turnaround of enhancements and fixes.</li><li>\\nResponsible for meeting expectations and deliverables on time with high quality.</li><li>\\nDrive and implement new features within our mobile applications.</li><li>\\nPerform thorough manual testing and writing test cases that cover all areas.</li><li>\\nIdentify new development tools/approaches that will increase code quality, efficiency, and best practices.</li><li>\\nDevelop and champion the the development processes, coding style guidelines, and architectural designs necessary to innovate and maintain great product quality.</li><li>\\nEffectively turns design documents and graphics into performant, usable UI.</li><li>\\nDemonstrates creative, technical, and analytical skills.</li><li>\\nDemonstrates ability to communicate effectively in both technical and business environments</li></ul></div>\\n<br/>\\n<div>Qualifications<br/>\\n<br/>\\n<p><b>What we are looking for\\xe2\\x80\\xa6</b></p><ul><li>\\nMaster\\xe2\\x80\\x99s Degree in Computer Science, Math, or related field.</li><li>\\nComputer Science fundamentals, as illustrated through algorithm design, problem solving, and complexity analysis.</li><li>\\nMust have 1+ year real-world experience developing and deploying micro-services or data pipelines</li><li>\\nMust have a fundamental understanding of key machine learning concepts, such as accuracy measures, cross-validation, and open source machine learning libraries</li><li>\\nFluent in Python and SQL</li><li>\\nProficient with writing unit/functional tests and familiar with automation frameworks</li><li>\\nExperience with cloud infrastructure, such as AWS or Azure, is a plus.</li><li>\\nExperience with distributed data pipelines, such as a Spark, is a plus.</li><li>\\nStrong written and oral communication skills.</li><li>\\nDesire and willingness to work in an Agile, collaborative, innovative, flexible, and team-oriented environment</li><li>\\nHands-on, detail-oriented, methodical &amp; inquisitive</li><li>\\nA motivated self-starter with a solid level of experience that quickly grasps complex challenges</li><li>\\nA skillful communicator with experience working with technical management teams</li><li>\\n A service oriented person who thinks \"Customer First\"</li><li>\\nFast fail entrepreneurial spirit</li><li>\\nThrives in a fast-paced environment where continuous improvement is the norm and the bar for quality is extremely high</li><li>\\nExcited by the challenges of working in a product team undergoing rapid, international growth</li></ul><br/>\\nAdditional Information<br/>\\n<br/>\\n<p><b>What is important to us</b></p><p>\\nCreating an enduring company that is hyper-focused on our culture and making a meaningful impact in the lives of our employees, members and customers. The secret to our success is:</p><p><b>\\nWe find joy and purpose in serving others</b></p><p>\\nMaking a difference in our members\\xe2\\x80\\x99 and customers\\xe2\\x80\\x99 lives is what we do. Even when it\\xe2\\x80\\x99s hard, we do the right thing for the right reasons.</p><p><b>\\nWe are strong individually and together, we\\xe2\\x80\\x99re powerful</b></p><p>\\nTrusting in our colleagues and embracing their different backgrounds and experiences enable us to solve tough problems in creative ways, having fun along the way.</p><p><b>\\nWe roll up our sleeves and get stuff done</b></p><p>\\nResults motivate us. And we aren\\'t afraid of the hard work or tough decisions needed to get us there.</p><p><b>\\nWe\\xe2\\x80\\x99re boldly and relentlessly reinventing healthcare</b></p><p>\\nWe\\'re curious and act big - not afraid to knock down barriers or take calculated risks to change the world, one person at a time.</p><p>\\nAll your information will be kept confidential according to EEO guidelines.</p></div>'   \n",
       "\n",
       "              title  \\\n",
       "0  Data scientist     \n",
       "1  Data Scientist I   \n",
       "\n",
       "                                                                                                                                                                                                                                                                                                                                                                                                                                                                                                                                                                                                                                                                                                                                                                                                                                                                                                                                                                                                                                                                                                                                                                                                                                                                                                                                                                                                                                                                                                                                                                                                                                                                                                                                                                                                                                                                                                                                                                                                                                                                                                                                                                                                                                                                                                                                                                                                                                                                                                                                                                                                                                                                                                                                                                                                                                                                                                                                                                                                                                                                                                                                                                                                                                                                                                                                                                                                                                                                                                                                                                                                                                                                                                                                                                                                                                                                                                                                                                                                                                                  cleaned_text  \\\n",
       "0  b\"Job Requirements Conceptual understanding in Machine Learning models like Nai\\xc2\\xa8ve Bayes K-Means SVM Apriori Linear  Logistic Regression Neural Random Forests Decision Trees K-NN along with hands-on experience in at least 2 of them Intermediate to expert level coding skills in Python R Ability to write functions clean and efficient data manipulation are mandatory for this role Exposure to packages like NumPy SciPy Pandas Matplotlib etc in Python or GGPlot2 dplyr tidyR in R Ability to communicate Model findings to both Technical and Non-Technical stake holders Hands on experience in SQL Hive or similar programming language Must show past work via GitHub Kaggle or any other published article Master's degree in Statistics Mathematics Computer Science or any other quant specific field Apply Now\"                                                                                                                                                                                                                                                                                                                                                                                                                                                                                                                                                                                                                                                                                                                                                                                                                                                                                                                                                                                                                                                                                                                                                                                                                                                                                                                                                                                                                                                                                                                                                                                                                                                                                                                                                                                                                                                                                                                                                                                                                                                                                                                                                                                                                                                                                                                                                                                                                                                                                                                                                                                                                                                                                                                                                                                                                                                                                                                                                                                                                                                                                                                                                                                                                     \n",
       "1  b'Job Description  As a Data Scientist 1 you will help us build machine learning models data pipelines and micro-services to help our clients navigate their healthcare journey You will do so by empowering and improving the next generation of Accolade Applications and user experiences A day in the life\\xe2\\x80\\xa6 Work with a small agile team to design and develop mobile applications in an iterative fashion Work with a tight-knit group of development team members in Seattle Contribute to best practices and help guide the future of our applications Operates effectively as a collaborative member of the development team Operates effectively as an individual for quick turnaround of enhancements and fixes Responsible for meeting expectations and deliverables on time with high quality Drive and implement new features within our mobile applications Perform thorough manual testing and writing test cases that cover all areas Identify new development tools approaches that will increase code quality efficiency and best practices Develop and champion the the development processes coding style guidelines and architectural designs necessary to innovate and maintain great product quality Effectively turns design documents and graphics into performant usable UI Demonstrates creative technical and analytical skills Demonstrates ability to communicate effectively in both technical and business environments  Qualifications  What we are looking for\\xe2\\x80\\xa6 Master\\xe2\\x80\\x99s Degree in Computer Science Math or related field Computer Science fundamentals as illustrated through algorithm design problem solving and complexity analysis Must have 1+ year real-world experience developing and deploying micro-services or data pipelines Must have a fundamental understanding of key machine learning concepts such as accuracy measures cross-validation and open source machine learning libraries Fluent in Python and SQL Proficient with writing unit functional tests and familiar with automation frameworks Experience with cloud infrastructure such as AWS or Azure is a plus Experience with distributed data pipelines such as a Spark is a plus Strong written and oral communication skills Desire and willingness to work in an Agile collaborative innovative flexible and team-oriented environment Hands-on detail-oriented methodical & inquisitive A motivated self-starter with a solid level of experience that quickly grasps complex challenges A skillful communicator with experience working with technical management teams  A service oriented person who thinks \"Customer First\" Fast fail entrepreneurial spirit Thrives in a fast-paced environment where continuous improvement is the norm and the bar for quality is extremely high Excited by the challenges of working in a product team undergoing rapid international growth Additional Information  What is important to us Creating an enduring company that is hyper-focused on our culture and making a meaningful impact in the lives of our employees members and customers The secret to our success is We find joy and purpose in serving others Making a difference in our members\\xe2\\x80\\x99 and customers\\xe2\\x80\\x99 lives is what we do Even when it\\xe2\\x80\\x99s hard we do the right thing for the right reasons We are strong individually and together we\\xe2\\x80\\x99re powerful Trusting in our colleagues and embracing their different backgrounds and experiences enable us to solve tough problems in creative ways having fun along the way We roll up our sleeves and get stuff done Results motivate us And we aren\\'t afraid of the hard work or tough decisions needed to get us there We\\xe2\\x80\\x99re boldly and relentlessly reinventing healthcare We\\'re curious and act big - not afraid to knock down barriers or take calculated risks to change the world one person at a time All your information will be kept confidential according to EEO guidelines'   \n",
       "\n",
       "                                                                                                                                                                                                                                                                                                                                                                                                                                                                                                                                                                                                                                                                                                                                                                                                                                                                                                                                  tokens  \n",
       "0  [b\"Job, Requirements:, Conceptual, understand, Machine, Learning, model, like, Nai\\xc2\\xa8ve, Bayes, K-Means, SVM, Apriori, Linear,  , Logistic, Regression, Neural, Random, Forests, Decision, Trees, K-NN, hands-on, experience, 2, Intermediate, expert, level, code, skill, Python, R, Ability, write, function, clean, efficient, datum, manipulation, mandatory, role, Exposure, package, like, NumPy, SciPy, Pandas, Matplotlib, etc, Python, GGPlot2, dplyr, tidyR, R, Ability, communicate, Model, finding, Technical, Non-Technical, stake, holder, Hands, experience, SQL, Hive, similar, programme, language, past, work, GitHub, Kaggle, publish, article, Master's, degree, Statistics, Mathematics, Computer, Science, quant, specific, field, Apply, Now\"]                                                                                                                                                             \n",
       "1  [b'Job, Description,  , Data, Scientist, 1, help, build, machine, learn, model, datum, pipeline, micro-services, help, client, navigate, healthcare, journey, empower, improve, generation, Accolade, Applications, user, experience, day, life\\xe2\\x80\\xa6, Work, small, agile, team, design, develop, mobile, application, iterative, fashion, Work, tight-knit, group, development, team, member, Seattle, Contribute, well, practice, help, guide, future, application, Operates, effectively, collaborative, member, development, team, Operates, effectively, individual, quick, turnaround, enhancement, fix, Responsible, meet, expectation, deliverable, time, high, quality, Drive, implement, new, feature, mobile, application, Perform, thorough, manual, test, write, test, case, cover, area, Identify, new, development, tool, approach, increase, code, quality, efficiency, well, practice, Develop, champion, ...]  "
      ]
     },
     "execution_count": 163,
     "metadata": {},
     "output_type": "execute_result"
    }
   ],
   "source": [
    "data.head(2)"
   ]
  },
  {
   "cell_type": "markdown",
   "metadata": {
    "colab_type": "text",
    "id": "5C4xFZNtX1m2"
   },
   "source": [
    "## 2) Use Spacy to tokenize the listings "
   ]
  },
  {
   "cell_type": "code",
   "execution_count": 113,
   "metadata": {
    "colab": {},
    "colab_type": "code",
    "id": "dhUHuMr-X-II"
   },
   "outputs": [],
   "source": [
    "##### Your Code Here #####\n",
    "import spacy\n",
    "nlp = spacy.load(\"en_core_web_lg\")\n"
   ]
  },
  {
   "cell_type": "code",
   "execution_count": 114,
   "metadata": {},
   "outputs": [
    {
     "name": "stdout",
     "output_type": "stream",
     "text": [
      "['requirement', 'conceptual', 'understanding', 'Machine', 'Learning', 'model', 'like', 'Bayes', 'K', 'mean', 'SVM', 'Apriori', 'Logistic', 'Regression', 'Neural', 'Random', 'Forests', 'Decision', 'Trees', 'K', 'NN', 'hand', 'experience', 'Intermediate', 'expert', 'level', 'coding', 'skill', 'Python', 'ability', 'write', 'function', 'clean', 'efficient', 'datum', 'manipulation', 'mandatory', 'role', 'exposure', 'package', 'like', 'NumPy', 'SciPy', 'Pandas', 'Matplotlib', 'etc', 'Python', 'dplyr', 'tidyR', 'r', 'ability', 'communicate', 'Model', 'finding', 'Technical', 'Non', 'technical', 'stake', 'holder', 'hand', 'experience', 'SQL', 'Hive', 'similar', 'programming', 'language', 'past', 'work', 'GitHub', 'Kaggle', 'publish', 'article', 'Master', 'degree', 'Statistics', 'Mathematics', 'Computer', 'Science', 'quant', 'specific', 'field', 'apply']\n"
     ]
    }
   ],
   "source": [
    "doc = nlp(data.cleaned_text[0])\n",
    "print([token.lemma_ for token in doc if (token.is_stop != True) and (token.is_punct != True) and (token.is_alpha ==True)])"
   ]
  },
  {
   "cell_type": "code",
   "execution_count": 164,
   "metadata": {},
   "outputs": [],
   "source": [
    "from spacy.tokenizer import Tokenizer\n",
    "\n",
    "# Tokenizer\n",
    "tokenizer = Tokenizer(nlp.vocab)\n",
    "\n",
    "# Tokenizer Pipe\n",
    "# make tokens\n",
    "\n",
    "\n",
    "tokens = []\n",
    "\n",
    "\n",
    "for doc in tokenizer.pipe(data.cleaned_text, batch_size=500):\n",
    "    doc_tokens = [token.lemma_ for token in doc if (token.is_stop != True) \n",
    "                  and (token.is_punct != True)]\n",
    "    tokens.append(doc_tokens)\n",
    "\n",
    "data['tokens'] = tokens"
   ]
  },
  {
   "cell_type": "code",
   "execution_count": 165,
   "metadata": {},
   "outputs": [],
   "source": [
    "#list of what's inside nlp.vocab, uncomment line below, gets you all the vocab in cleaned_text\n",
    "#list(nlp.vocab.strings)"
   ]
  },
  {
   "cell_type": "code",
   "execution_count": 166,
   "metadata": {},
   "outputs": [
    {
     "data": {
      "text/html": [
       "<div>\n",
       "<style scoped>\n",
       "    .dataframe tbody tr th:only-of-type {\n",
       "        vertical-align: middle;\n",
       "    }\n",
       "\n",
       "    .dataframe tbody tr th {\n",
       "        vertical-align: top;\n",
       "    }\n",
       "\n",
       "    .dataframe thead th {\n",
       "        text-align: right;\n",
       "    }\n",
       "</style>\n",
       "<table border=\"1\" class=\"dataframe\">\n",
       "  <thead>\n",
       "    <tr style=\"text-align: right;\">\n",
       "      <th></th>\n",
       "      <th>Unnamed: 0</th>\n",
       "      <th>description</th>\n",
       "      <th>title</th>\n",
       "      <th>cleaned_text</th>\n",
       "      <th>tokens</th>\n",
       "    </tr>\n",
       "  </thead>\n",
       "  <tbody>\n",
       "    <tr>\n",
       "      <th>0</th>\n",
       "      <td>0</td>\n",
       "      <td>b\"&lt;div&gt;&lt;div&gt;Job Requirements:&lt;/div&gt;&lt;ul&gt;&lt;li&gt;&lt;p&gt;\\nConceptual understanding in Machine Learning models like Nai\\xc2\\xa8ve Bayes, K-Means, SVM, Apriori, Linear/ Logistic Regression, Neural, Random Forests, Decision Trees, K-NN along with hands-on experience in at least 2 of them&lt;/p&gt;\\n&lt;/li&gt;&lt;li&gt;&lt;p&gt;Intermediate to expert level coding skills in Python/R. (Ability to write functions, clean and efficient data manipulation are mandatory for this role)&lt;/p&gt;\\n&lt;/li&gt;&lt;li&gt;&lt;p&gt;Exposure to packages like NumPy, SciPy, Pandas, Matplotlib etc in Python or GGPlot2, dplyr, tidyR in R&lt;/p&gt;\\n&lt;/li&gt;&lt;li&gt;&lt;p&gt;Ability to communicate Model findings to both Technical and Non-Technical stake holders&lt;/p&gt;\\n&lt;/li&gt;&lt;li&gt;&lt;p&gt;Hands on experience in SQL/Hive or similar programming language&lt;/p&gt;\\n&lt;/li&gt;&lt;li&gt;&lt;p&gt;Must show past work via GitHub, Kaggle or any other published article&lt;/p&gt;\\n&lt;/li&gt;&lt;li&gt;&lt;p&gt;Master's degree in Statistics/Mathematics/Computer Science or any other quant specific field.&lt;/p&gt;&lt;/li&gt;&lt;/ul&gt;&lt;div&gt;&lt;div&gt;&lt;div&gt;&lt;div&gt;&lt;div&gt;&lt;div&gt;\\nApply Now&lt;/div&gt;&lt;/div&gt;&lt;/div&gt;&lt;/div&gt;&lt;/div&gt;&lt;/div&gt;&lt;/div&gt;&lt;div&gt;&lt;/div&gt;\"</td>\n",
       "      <td>Data scientist</td>\n",
       "      <td>b\"Job Requirements Conceptual understanding in Machine Learning models like Nai\\xc2\\xa8ve Bayes K-Means SVM Apriori Linear  Logistic Regression Neural Random Forests Decision Trees K-NN along with hands-on experience in at least 2 of them Intermediate to expert level coding skills in Python R Ability to write functions clean and efficient data manipulation are mandatory for this role Exposure to packages like NumPy SciPy Pandas Matplotlib etc in Python or GGPlot2 dplyr tidyR in R Ability to communicate Model findings to both Technical and Non-Technical stake holders Hands on experience in SQL Hive or similar programming language Must show past work via GitHub Kaggle or any other published article Master's degree in Statistics Mathematics Computer Science or any other quant specific field Apply Now\"</td>\n",
       "      <td>[b\"Job, Requirements, Conceptual, understand, Machine, Learning, model, like, Nai\\xc2\\xa8ve, Bayes, K-Means, SVM, Apriori, Linear,  , Logistic, Regression, Neural, Random, Forests, Decision, Trees, K-NN, hands-on, experience, 2, Intermediate, expert, level, code, skill, Python, R, Ability, write, function, clean, efficient, datum, manipulation, mandatory, role, Exposure, package, like, NumPy, SciPy, Pandas, Matplotlib, etc, Python, GGPlot2, dplyr, tidyR, R, Ability, communicate, Model, finding, Technical, Non-Technical, stake, holder, Hands, experience, SQL, Hive, similar, programme, language, past, work, GitHub, Kaggle, publish, article, Master's, degree, Statistics, Mathematics, Computer, Science, quant, specific, field, Apply, Now\"]</td>\n",
       "    </tr>\n",
       "  </tbody>\n",
       "</table>\n",
       "</div>"
      ],
      "text/plain": [
       "   Unnamed: 0  \\\n",
       "0  0            \n",
       "\n",
       "                                                                                                                                                                                                                                                                                                                                                                                                                                                                                                                                                                                                                                                                                                                                                                                                                                                                                                                                                                                                                                                                                         description  \\\n",
       "0  b\"<div><div>Job Requirements:</div><ul><li><p>\\nConceptual understanding in Machine Learning models like Nai\\xc2\\xa8ve Bayes, K-Means, SVM, Apriori, Linear/ Logistic Regression, Neural, Random Forests, Decision Trees, K-NN along with hands-on experience in at least 2 of them</p>\\n</li><li><p>Intermediate to expert level coding skills in Python/R. (Ability to write functions, clean and efficient data manipulation are mandatory for this role)</p>\\n</li><li><p>Exposure to packages like NumPy, SciPy, Pandas, Matplotlib etc in Python or GGPlot2, dplyr, tidyR in R</p>\\n</li><li><p>Ability to communicate Model findings to both Technical and Non-Technical stake holders</p>\\n</li><li><p>Hands on experience in SQL/Hive or similar programming language</p>\\n</li><li><p>Must show past work via GitHub, Kaggle or any other published article</p>\\n</li><li><p>Master's degree in Statistics/Mathematics/Computer Science or any other quant specific field.</p></li></ul><div><div><div><div><div><div>\\nApply Now</div></div></div></div></div></div></div><div></div>\"   \n",
       "\n",
       "             title  \\\n",
       "0  Data scientist    \n",
       "\n",
       "                                                                                                                                                                                                                                                                                                                                                                                                                                                                                                                                                                                                                                                                                                                                                                                                                                cleaned_text  \\\n",
       "0  b\"Job Requirements Conceptual understanding in Machine Learning models like Nai\\xc2\\xa8ve Bayes K-Means SVM Apriori Linear  Logistic Regression Neural Random Forests Decision Trees K-NN along with hands-on experience in at least 2 of them Intermediate to expert level coding skills in Python R Ability to write functions clean and efficient data manipulation are mandatory for this role Exposure to packages like NumPy SciPy Pandas Matplotlib etc in Python or GGPlot2 dplyr tidyR in R Ability to communicate Model findings to both Technical and Non-Technical stake holders Hands on experience in SQL Hive or similar programming language Must show past work via GitHub Kaggle or any other published article Master's degree in Statistics Mathematics Computer Science or any other quant specific field Apply Now\"   \n",
       "\n",
       "                                                                                                                                                                                                                                                                                                                                                                                                                                                                                                                                                                                                                                                                                                                                                                      tokens  \n",
       "0  [b\"Job, Requirements, Conceptual, understand, Machine, Learning, model, like, Nai\\xc2\\xa8ve, Bayes, K-Means, SVM, Apriori, Linear,  , Logistic, Regression, Neural, Random, Forests, Decision, Trees, K-NN, hands-on, experience, 2, Intermediate, expert, level, code, skill, Python, R, Ability, write, function, clean, efficient, datum, manipulation, mandatory, role, Exposure, package, like, NumPy, SciPy, Pandas, Matplotlib, etc, Python, GGPlot2, dplyr, tidyR, R, Ability, communicate, Model, finding, Technical, Non-Technical, stake, holder, Hands, experience, SQL, Hive, similar, programme, language, past, work, GitHub, Kaggle, publish, article, Master's, degree, Statistics, Mathematics, Computer, Science, quant, specific, field, Apply, Now\"]  "
      ]
     },
     "execution_count": 166,
     "metadata": {},
     "output_type": "execute_result"
    }
   ],
   "source": [
    "data.head(1)"
   ]
  },
  {
   "cell_type": "markdown",
   "metadata": {
    "colab_type": "text",
    "id": "-lgCZNL_YycP"
   },
   "source": [
    "## 3) Use Scikit-Learn's CountVectorizer to get word counts for each listing."
   ]
  },
  {
   "cell_type": "code",
   "execution_count": 178,
   "metadata": {
    "colab": {},
    "colab_type": "code",
    "id": "X2PZ8Pj_YxcF"
   },
   "outputs": [
    {
     "data": {
      "text/plain": [
       "(426, 7640)"
      ]
     },
     "execution_count": 178,
     "metadata": {},
     "output_type": "execute_result"
    }
   ],
   "source": [
    "##### Your Code Here #####\n",
    "# Classics\n",
    "import pandas as pd\n",
    "import seaborn as sns\n",
    "import matplotlib.pyplot as plt\n",
    "\n",
    "from sklearn.feature_extraction.text import CountVectorizer, TfidfVectorizer\n",
    "from sklearn.metrics.pairwise import cosine_similarity\n",
    "from sklearn.neighbors import NearestNeighbors\n",
    "from sklearn.decomposition import PCA\n",
    "\n",
    "# list of text documents\n",
    "data['tokens_joined'] = data.tokens.apply(lambda x: ' '.join(x))\n",
    "text = data.tokens_joined\n",
    "\n",
    "# create the transformer\n",
    "vect = CountVectorizer()\n",
    "\n",
    "# build vocab\n",
    "vect.fit(text)\n",
    "\n",
    "# transform text\n",
    "dtm = vect.transform(text)\n",
    "dtm.shape\n",
    "\n",
    "# Create a Vocabulary\n",
    "# The vocabulary establishes all of the possible words that we might use.\n",
    "\n",
    "# The vocabulary dictionary does not represent the counts of words!!\n",
    "\n"
   ]
  },
  {
   "cell_type": "code",
   "execution_count": 180,
   "metadata": {},
   "outputs": [
    {
     "data": {
      "text/html": [
       "<div>\n",
       "<style scoped>\n",
       "    .dataframe tbody tr th:only-of-type {\n",
       "        vertical-align: middle;\n",
       "    }\n",
       "\n",
       "    .dataframe tbody tr th {\n",
       "        vertical-align: top;\n",
       "    }\n",
       "\n",
       "    .dataframe thead th {\n",
       "        text-align: right;\n",
       "    }\n",
       "</style>\n",
       "<table border=\"1\" class=\"dataframe\">\n",
       "  <thead>\n",
       "    <tr style=\"text-align: right;\">\n",
       "      <th></th>\n",
       "      <th>Unnamed: 0</th>\n",
       "      <th>description</th>\n",
       "      <th>title</th>\n",
       "      <th>cleaned_text</th>\n",
       "      <th>tokens</th>\n",
       "      <th>tokens_joined</th>\n",
       "    </tr>\n",
       "  </thead>\n",
       "  <tbody>\n",
       "    <tr>\n",
       "      <th>0</th>\n",
       "      <td>0</td>\n",
       "      <td>b\"&lt;div&gt;&lt;div&gt;Job Requirements:&lt;/div&gt;&lt;ul&gt;&lt;li&gt;&lt;p&gt;\\nConceptual understanding in Machine Learning models like Nai\\xc2\\xa8ve Bayes, K-Means, SVM, Apriori, Linear/ Logistic Regression, Neural, Random Forests, Decision Trees, K-NN along with hands-on experience in at least 2 of them&lt;/p&gt;\\n&lt;/li&gt;&lt;li&gt;&lt;p&gt;Intermediate to expert level coding skills in Python/R. (Ability to write functions, clean and efficient data manipulation are mandatory for this role)&lt;/p&gt;\\n&lt;/li&gt;&lt;li&gt;&lt;p&gt;Exposure to packages like NumPy, SciPy, Pandas, Matplotlib etc in Python or GGPlot2, dplyr, tidyR in R&lt;/p&gt;\\n&lt;/li&gt;&lt;li&gt;&lt;p&gt;Ability to communicate Model findings to both Technical and Non-Technical stake holders&lt;/p&gt;\\n&lt;/li&gt;&lt;li&gt;&lt;p&gt;Hands on experience in SQL/Hive or similar programming language&lt;/p&gt;\\n&lt;/li&gt;&lt;li&gt;&lt;p&gt;Must show past work via GitHub, Kaggle or any other published article&lt;/p&gt;\\n&lt;/li&gt;&lt;li&gt;&lt;p&gt;Master's degree in Statistics/Mathematics/Computer Science or any other quant specific field.&lt;/p&gt;&lt;/li&gt;&lt;/ul&gt;&lt;div&gt;&lt;div&gt;&lt;div&gt;&lt;div&gt;&lt;div&gt;&lt;div&gt;\\nApply Now&lt;/div&gt;&lt;/div&gt;&lt;/div&gt;&lt;/div&gt;&lt;/div&gt;&lt;/div&gt;&lt;/div&gt;&lt;div&gt;&lt;/div&gt;\"</td>\n",
       "      <td>Data scientist</td>\n",
       "      <td>b\"Job Requirements Conceptual understanding in Machine Learning models like Nai\\xc2\\xa8ve Bayes K-Means SVM Apriori Linear  Logistic Regression Neural Random Forests Decision Trees K-NN along with hands-on experience in at least 2 of them Intermediate to expert level coding skills in Python R Ability to write functions clean and efficient data manipulation are mandatory for this role Exposure to packages like NumPy SciPy Pandas Matplotlib etc in Python or GGPlot2 dplyr tidyR in R Ability to communicate Model findings to both Technical and Non-Technical stake holders Hands on experience in SQL Hive or similar programming language Must show past work via GitHub Kaggle or any other published article Master's degree in Statistics Mathematics Computer Science or any other quant specific field Apply Now\"</td>\n",
       "      <td>[b\"Job, Requirements, Conceptual, understand, Machine, Learning, model, like, Nai\\xc2\\xa8ve, Bayes, K-Means, SVM, Apriori, Linear,  , Logistic, Regression, Neural, Random, Forests, Decision, Trees, K-NN, hands-on, experience, 2, Intermediate, expert, level, code, skill, Python, R, Ability, write, function, clean, efficient, datum, manipulation, mandatory, role, Exposure, package, like, NumPy, SciPy, Pandas, Matplotlib, etc, Python, GGPlot2, dplyr, tidyR, R, Ability, communicate, Model, finding, Technical, Non-Technical, stake, holder, Hands, experience, SQL, Hive, similar, programme, language, past, work, GitHub, Kaggle, publish, article, Master's, degree, Statistics, Mathematics, Computer, Science, quant, specific, field, Apply, Now\"]</td>\n",
       "      <td>b\"Job Requirements Conceptual understand Machine Learning model like Nai\\xc2\\xa8ve Bayes K-Means SVM Apriori Linear   Logistic Regression Neural Random Forests Decision Trees K-NN hands-on experience 2 Intermediate expert level code skill Python R Ability write function clean efficient datum manipulation mandatory role Exposure package like NumPy SciPy Pandas Matplotlib etc Python GGPlot2 dplyr tidyR R Ability communicate Model finding Technical Non-Technical stake holder Hands experience SQL Hive similar programme language past work GitHub Kaggle publish article Master's degree Statistics Mathematics Computer Science quant specific field Apply Now\"</td>\n",
       "    </tr>\n",
       "  </tbody>\n",
       "</table>\n",
       "</div>"
      ],
      "text/plain": [
       "   Unnamed: 0  \\\n",
       "0  0            \n",
       "\n",
       "                                                                                                                                                                                                                                                                                                                                                                                                                                                                                                                                                                                                                                                                                                                                                                                                                                                                                                                                                                                                                                                                                         description  \\\n",
       "0  b\"<div><div>Job Requirements:</div><ul><li><p>\\nConceptual understanding in Machine Learning models like Nai\\xc2\\xa8ve Bayes, K-Means, SVM, Apriori, Linear/ Logistic Regression, Neural, Random Forests, Decision Trees, K-NN along with hands-on experience in at least 2 of them</p>\\n</li><li><p>Intermediate to expert level coding skills in Python/R. (Ability to write functions, clean and efficient data manipulation are mandatory for this role)</p>\\n</li><li><p>Exposure to packages like NumPy, SciPy, Pandas, Matplotlib etc in Python or GGPlot2, dplyr, tidyR in R</p>\\n</li><li><p>Ability to communicate Model findings to both Technical and Non-Technical stake holders</p>\\n</li><li><p>Hands on experience in SQL/Hive or similar programming language</p>\\n</li><li><p>Must show past work via GitHub, Kaggle or any other published article</p>\\n</li><li><p>Master's degree in Statistics/Mathematics/Computer Science or any other quant specific field.</p></li></ul><div><div><div><div><div><div>\\nApply Now</div></div></div></div></div></div></div><div></div>\"   \n",
       "\n",
       "             title  \\\n",
       "0  Data scientist    \n",
       "\n",
       "                                                                                                                                                                                                                                                                                                                                                                                                                                                                                                                                                                                                                                                                                                                                                                                                                                cleaned_text  \\\n",
       "0  b\"Job Requirements Conceptual understanding in Machine Learning models like Nai\\xc2\\xa8ve Bayes K-Means SVM Apriori Linear  Logistic Regression Neural Random Forests Decision Trees K-NN along with hands-on experience in at least 2 of them Intermediate to expert level coding skills in Python R Ability to write functions clean and efficient data manipulation are mandatory for this role Exposure to packages like NumPy SciPy Pandas Matplotlib etc in Python or GGPlot2 dplyr tidyR in R Ability to communicate Model findings to both Technical and Non-Technical stake holders Hands on experience in SQL Hive or similar programming language Must show past work via GitHub Kaggle or any other published article Master's degree in Statistics Mathematics Computer Science or any other quant specific field Apply Now\"   \n",
       "\n",
       "                                                                                                                                                                                                                                                                                                                                                                                                                                                                                                                                                                                                                                                                                                                                                                      tokens  \\\n",
       "0  [b\"Job, Requirements, Conceptual, understand, Machine, Learning, model, like, Nai\\xc2\\xa8ve, Bayes, K-Means, SVM, Apriori, Linear,  , Logistic, Regression, Neural, Random, Forests, Decision, Trees, K-NN, hands-on, experience, 2, Intermediate, expert, level, code, skill, Python, R, Ability, write, function, clean, efficient, datum, manipulation, mandatory, role, Exposure, package, like, NumPy, SciPy, Pandas, Matplotlib, etc, Python, GGPlot2, dplyr, tidyR, R, Ability, communicate, Model, finding, Technical, Non-Technical, stake, holder, Hands, experience, SQL, Hive, similar, programme, language, past, work, GitHub, Kaggle, publish, article, Master's, degree, Statistics, Mathematics, Computer, Science, quant, specific, field, Apply, Now\"]   \n",
       "\n",
       "                                                                                                                                                                                                                                                                                                                                                                                                                                                                                                                                                                                                                                                                       tokens_joined  \n",
       "0  b\"Job Requirements Conceptual understand Machine Learning model like Nai\\xc2\\xa8ve Bayes K-Means SVM Apriori Linear   Logistic Regression Neural Random Forests Decision Trees K-NN hands-on experience 2 Intermediate expert level code skill Python R Ability write function clean efficient datum manipulation mandatory role Exposure package like NumPy SciPy Pandas Matplotlib etc Python GGPlot2 dplyr tidyR R Ability communicate Model finding Technical Non-Technical stake holder Hands experience SQL Hive similar programme language past work GitHub Kaggle publish article Master's degree Statistics Mathematics Computer Science quant specific field Apply Now\"  "
      ]
     },
     "execution_count": 180,
     "metadata": {},
     "output_type": "execute_result"
    }
   ],
   "source": [
    "data.head(1)"
   ]
  },
  {
   "cell_type": "code",
   "execution_count": 187,
   "metadata": {},
   "outputs": [
    {
     "data": {
      "text/html": [
       "<div>\n",
       "<style scoped>\n",
       "    .dataframe tbody tr th:only-of-type {\n",
       "        vertical-align: middle;\n",
       "    }\n",
       "\n",
       "    .dataframe tbody tr th {\n",
       "        vertical-align: top;\n",
       "    }\n",
       "\n",
       "    .dataframe thead th {\n",
       "        text-align: right;\n",
       "    }\n",
       "</style>\n",
       "<table border=\"1\" class=\"dataframe\">\n",
       "  <thead>\n",
       "    <tr style=\"text-align: right;\">\n",
       "      <th></th>\n",
       "      <th>00</th>\n",
       "      <th>02115</th>\n",
       "      <th>0305</th>\n",
       "      <th>0356</th>\n",
       "      <th>04</th>\n",
       "      <th>06366</th>\n",
       "      <th>08</th>\n",
       "      <th>10</th>\n",
       "      <th>100</th>\n",
       "      <th>1000</th>\n",
       "      <th>...</th>\n",
       "      <th>zero</th>\n",
       "      <th>zeus</th>\n",
       "      <th>zf</th>\n",
       "      <th>zheng</th>\n",
       "      <th>zillow</th>\n",
       "      <th>zogsports</th>\n",
       "      <th>zone</th>\n",
       "      <th>zoom</th>\n",
       "      <th>zuckerberg</th>\n",
       "      <th>zurich</th>\n",
       "    </tr>\n",
       "  </thead>\n",
       "  <tbody>\n",
       "    <tr>\n",
       "      <th>0</th>\n",
       "      <td>0</td>\n",
       "      <td>0</td>\n",
       "      <td>0</td>\n",
       "      <td>0</td>\n",
       "      <td>0</td>\n",
       "      <td>0</td>\n",
       "      <td>0</td>\n",
       "      <td>0</td>\n",
       "      <td>0</td>\n",
       "      <td>0</td>\n",
       "      <td>...</td>\n",
       "      <td>0</td>\n",
       "      <td>0</td>\n",
       "      <td>0</td>\n",
       "      <td>0</td>\n",
       "      <td>0</td>\n",
       "      <td>0</td>\n",
       "      <td>0</td>\n",
       "      <td>0</td>\n",
       "      <td>0</td>\n",
       "      <td>0</td>\n",
       "    </tr>\n",
       "    <tr>\n",
       "      <th>1</th>\n",
       "      <td>0</td>\n",
       "      <td>0</td>\n",
       "      <td>0</td>\n",
       "      <td>0</td>\n",
       "      <td>0</td>\n",
       "      <td>0</td>\n",
       "      <td>0</td>\n",
       "      <td>0</td>\n",
       "      <td>0</td>\n",
       "      <td>0</td>\n",
       "      <td>...</td>\n",
       "      <td>0</td>\n",
       "      <td>0</td>\n",
       "      <td>0</td>\n",
       "      <td>0</td>\n",
       "      <td>0</td>\n",
       "      <td>0</td>\n",
       "      <td>0</td>\n",
       "      <td>0</td>\n",
       "      <td>0</td>\n",
       "      <td>0</td>\n",
       "    </tr>\n",
       "    <tr>\n",
       "      <th>2</th>\n",
       "      <td>0</td>\n",
       "      <td>0</td>\n",
       "      <td>0</td>\n",
       "      <td>0</td>\n",
       "      <td>0</td>\n",
       "      <td>0</td>\n",
       "      <td>0</td>\n",
       "      <td>0</td>\n",
       "      <td>0</td>\n",
       "      <td>0</td>\n",
       "      <td>...</td>\n",
       "      <td>0</td>\n",
       "      <td>0</td>\n",
       "      <td>0</td>\n",
       "      <td>0</td>\n",
       "      <td>0</td>\n",
       "      <td>0</td>\n",
       "      <td>0</td>\n",
       "      <td>0</td>\n",
       "      <td>0</td>\n",
       "      <td>0</td>\n",
       "    </tr>\n",
       "    <tr>\n",
       "      <th>3</th>\n",
       "      <td>0</td>\n",
       "      <td>0</td>\n",
       "      <td>0</td>\n",
       "      <td>0</td>\n",
       "      <td>0</td>\n",
       "      <td>0</td>\n",
       "      <td>0</td>\n",
       "      <td>0</td>\n",
       "      <td>0</td>\n",
       "      <td>0</td>\n",
       "      <td>...</td>\n",
       "      <td>0</td>\n",
       "      <td>0</td>\n",
       "      <td>0</td>\n",
       "      <td>1</td>\n",
       "      <td>0</td>\n",
       "      <td>0</td>\n",
       "      <td>0</td>\n",
       "      <td>0</td>\n",
       "      <td>0</td>\n",
       "      <td>0</td>\n",
       "    </tr>\n",
       "    <tr>\n",
       "      <th>4</th>\n",
       "      <td>0</td>\n",
       "      <td>0</td>\n",
       "      <td>0</td>\n",
       "      <td>0</td>\n",
       "      <td>0</td>\n",
       "      <td>0</td>\n",
       "      <td>0</td>\n",
       "      <td>0</td>\n",
       "      <td>0</td>\n",
       "      <td>0</td>\n",
       "      <td>...</td>\n",
       "      <td>0</td>\n",
       "      <td>0</td>\n",
       "      <td>0</td>\n",
       "      <td>0</td>\n",
       "      <td>0</td>\n",
       "      <td>0</td>\n",
       "      <td>0</td>\n",
       "      <td>0</td>\n",
       "      <td>0</td>\n",
       "      <td>0</td>\n",
       "    </tr>\n",
       "    <tr>\n",
       "      <th>...</th>\n",
       "      <td>...</td>\n",
       "      <td>...</td>\n",
       "      <td>...</td>\n",
       "      <td>...</td>\n",
       "      <td>...</td>\n",
       "      <td>...</td>\n",
       "      <td>...</td>\n",
       "      <td>...</td>\n",
       "      <td>...</td>\n",
       "      <td>...</td>\n",
       "      <td>...</td>\n",
       "      <td>...</td>\n",
       "      <td>...</td>\n",
       "      <td>...</td>\n",
       "      <td>...</td>\n",
       "      <td>...</td>\n",
       "      <td>...</td>\n",
       "      <td>...</td>\n",
       "      <td>...</td>\n",
       "      <td>...</td>\n",
       "      <td>...</td>\n",
       "    </tr>\n",
       "    <tr>\n",
       "      <th>421</th>\n",
       "      <td>0</td>\n",
       "      <td>0</td>\n",
       "      <td>0</td>\n",
       "      <td>0</td>\n",
       "      <td>0</td>\n",
       "      <td>0</td>\n",
       "      <td>0</td>\n",
       "      <td>0</td>\n",
       "      <td>0</td>\n",
       "      <td>0</td>\n",
       "      <td>...</td>\n",
       "      <td>0</td>\n",
       "      <td>0</td>\n",
       "      <td>0</td>\n",
       "      <td>0</td>\n",
       "      <td>0</td>\n",
       "      <td>0</td>\n",
       "      <td>0</td>\n",
       "      <td>0</td>\n",
       "      <td>0</td>\n",
       "      <td>0</td>\n",
       "    </tr>\n",
       "    <tr>\n",
       "      <th>422</th>\n",
       "      <td>0</td>\n",
       "      <td>0</td>\n",
       "      <td>0</td>\n",
       "      <td>0</td>\n",
       "      <td>0</td>\n",
       "      <td>0</td>\n",
       "      <td>0</td>\n",
       "      <td>0</td>\n",
       "      <td>0</td>\n",
       "      <td>0</td>\n",
       "      <td>...</td>\n",
       "      <td>0</td>\n",
       "      <td>0</td>\n",
       "      <td>0</td>\n",
       "      <td>0</td>\n",
       "      <td>0</td>\n",
       "      <td>0</td>\n",
       "      <td>0</td>\n",
       "      <td>0</td>\n",
       "      <td>0</td>\n",
       "      <td>0</td>\n",
       "    </tr>\n",
       "    <tr>\n",
       "      <th>423</th>\n",
       "      <td>0</td>\n",
       "      <td>0</td>\n",
       "      <td>0</td>\n",
       "      <td>0</td>\n",
       "      <td>0</td>\n",
       "      <td>0</td>\n",
       "      <td>0</td>\n",
       "      <td>0</td>\n",
       "      <td>0</td>\n",
       "      <td>0</td>\n",
       "      <td>...</td>\n",
       "      <td>1</td>\n",
       "      <td>0</td>\n",
       "      <td>0</td>\n",
       "      <td>0</td>\n",
       "      <td>0</td>\n",
       "      <td>0</td>\n",
       "      <td>0</td>\n",
       "      <td>0</td>\n",
       "      <td>0</td>\n",
       "      <td>0</td>\n",
       "    </tr>\n",
       "    <tr>\n",
       "      <th>424</th>\n",
       "      <td>0</td>\n",
       "      <td>0</td>\n",
       "      <td>0</td>\n",
       "      <td>0</td>\n",
       "      <td>0</td>\n",
       "      <td>0</td>\n",
       "      <td>0</td>\n",
       "      <td>0</td>\n",
       "      <td>0</td>\n",
       "      <td>0</td>\n",
       "      <td>...</td>\n",
       "      <td>0</td>\n",
       "      <td>0</td>\n",
       "      <td>0</td>\n",
       "      <td>0</td>\n",
       "      <td>0</td>\n",
       "      <td>0</td>\n",
       "      <td>0</td>\n",
       "      <td>0</td>\n",
       "      <td>0</td>\n",
       "      <td>0</td>\n",
       "    </tr>\n",
       "    <tr>\n",
       "      <th>425</th>\n",
       "      <td>0</td>\n",
       "      <td>0</td>\n",
       "      <td>0</td>\n",
       "      <td>0</td>\n",
       "      <td>0</td>\n",
       "      <td>0</td>\n",
       "      <td>0</td>\n",
       "      <td>0</td>\n",
       "      <td>0</td>\n",
       "      <td>0</td>\n",
       "      <td>...</td>\n",
       "      <td>0</td>\n",
       "      <td>0</td>\n",
       "      <td>0</td>\n",
       "      <td>0</td>\n",
       "      <td>0</td>\n",
       "      <td>0</td>\n",
       "      <td>0</td>\n",
       "      <td>0</td>\n",
       "      <td>0</td>\n",
       "      <td>0</td>\n",
       "    </tr>\n",
       "  </tbody>\n",
       "</table>\n",
       "<p>426 rows × 7640 columns</p>\n",
       "</div>"
      ],
      "text/plain": [
       "     00  02115  0305  0356  04  06366  08  10  100  1000  ...  zero  zeus  zf  \\\n",
       "0    0   0      0     0     0   0      0   0   0    0     ...  0     0     0    \n",
       "1    0   0      0     0     0   0      0   0   0    0     ...  0     0     0    \n",
       "2    0   0      0     0     0   0      0   0   0    0     ...  0     0     0    \n",
       "3    0   0      0     0     0   0      0   0   0    0     ...  0     0     0    \n",
       "4    0   0      0     0     0   0      0   0   0    0     ...  0     0     0    \n",
       "..  ..  ..     ..    ..    ..  ..     ..  ..  ..   ..     ... ..    ..    ..    \n",
       "421  0   0      0     0     0   0      0   0   0    0     ...  0     0     0    \n",
       "422  0   0      0     0     0   0      0   0   0    0     ...  0     0     0    \n",
       "423  0   0      0     0     0   0      0   0   0    0     ...  1     0     0    \n",
       "424  0   0      0     0     0   0      0   0   0    0     ...  0     0     0    \n",
       "425  0   0      0     0     0   0      0   0   0    0     ...  0     0     0    \n",
       "\n",
       "     zheng  zillow  zogsports  zone  zoom  zuckerberg  zurich  \n",
       "0    0      0       0          0     0     0           0       \n",
       "1    0      0       0          0     0     0           0       \n",
       "2    0      0       0          0     0     0           0       \n",
       "3    1      0       0          0     0     0           0       \n",
       "4    0      0       0          0     0     0           0       \n",
       "..  ..     ..      ..         ..    ..    ..          ..       \n",
       "421  0      0       0          0     0     0           0       \n",
       "422  0      0       0          0     0     0           0       \n",
       "423  0      0       0          0     0     0           0       \n",
       "424  0      0       0          0     0     0           0       \n",
       "425  0      0       0          0     0     0           0       \n",
       "\n",
       "[426 rows x 7640 columns]"
      ]
     },
     "execution_count": 187,
     "metadata": {},
     "output_type": "execute_result"
    }
   ],
   "source": [
    "# Get Word Counts for each document\n",
    "dtm = pd.DataFrame(dtm.todense(), columns=vect.get_feature_names())\n",
    "dtm"
   ]
  },
  {
   "cell_type": "markdown",
   "metadata": {
    "colab_type": "text",
    "id": "Zo1iH_UeY7_n"
   },
   "source": [
    "## 4) Visualize the most common word counts"
   ]
  },
  {
   "cell_type": "code",
   "execution_count": 189,
   "metadata": {
    "colab": {},
    "colab_type": "code",
    "id": "M5LB00uyZKV5"
   },
   "outputs": [],
   "source": [
    "##### Your Code Here #####\n",
    "doc_len = [len(doc) for doc in data.tokens]"
   ]
  },
  {
   "cell_type": "code",
   "execution_count": 190,
   "metadata": {},
   "outputs": [
    {
     "data": {
      "image/png": "[encoded data removed]",
      "text/plain": [
       "<Figure size 432x288 with 1 Axes>"
      ]
     },
     "metadata": {
      "needs_background": "light"
     },
     "output_type": "display_data"
    }
   ],
   "source": [
    "import seaborn as sns\n",
    "\n",
    "sns.distplot(doc_len);\n"
   ]
  },
  {
   "cell_type": "markdown",
   "metadata": {
    "colab_type": "text",
    "id": "bwFsTqrVZMYi"
   },
   "source": [
    "## 5) Use Scikit-Learn's tfidfVectorizer to get a TF-IDF feature matrix"
   ]
  },
  {
   "cell_type": "code",
   "execution_count": 213,
   "metadata": {
    "colab": {},
    "colab_type": "code",
    "id": "-gx2gZCbl5Np"
   },
   "outputs": [
    {
     "name": "stdout",
     "output_type": "stream",
     "text": [
      "(426, 1174)\n"
     ]
    },
    {
     "data": {
      "text/html": [
       "<div>\n",
       "<style scoped>\n",
       "    .dataframe tbody tr th:only-of-type {\n",
       "        vertical-align: middle;\n",
       "    }\n",
       "\n",
       "    .dataframe tbody tr th {\n",
       "        vertical-align: top;\n",
       "    }\n",
       "\n",
       "    .dataframe thead th {\n",
       "        text-align: right;\n",
       "    }\n",
       "</style>\n",
       "<table border=\"1\" class=\"dataframe\">\n",
       "  <thead>\n",
       "    <tr style=\"text-align: right;\">\n",
       "      <th></th>\n",
       "      <th>10</th>\n",
       "      <th>100</th>\n",
       "      <th>2019</th>\n",
       "      <th>401k</th>\n",
       "      <th>ability</th>\n",
       "      <th>ability communicate</th>\n",
       "      <th>ability work</th>\n",
       "      <th>able</th>\n",
       "      <th>able work</th>\n",
       "      <th>academic</th>\n",
       "      <th>...</th>\n",
       "      <th>x9d</th>\n",
       "      <th>xe2</th>\n",
       "      <th>xe2 x80</th>\n",
       "      <th>year</th>\n",
       "      <th>year experience</th>\n",
       "      <th>year relevant</th>\n",
       "      <th>year work</th>\n",
       "      <th>years</th>\n",
       "      <th>years xe2</th>\n",
       "      <th>york</th>\n",
       "    </tr>\n",
       "  </thead>\n",
       "  <tbody>\n",
       "    <tr>\n",
       "      <th>0</th>\n",
       "      <td>0.0</td>\n",
       "      <td>0.0</td>\n",
       "      <td>0.0</td>\n",
       "      <td>0.0</td>\n",
       "      <td>0.134870</td>\n",
       "      <td>0.165729</td>\n",
       "      <td>0.0</td>\n",
       "      <td>0.0</td>\n",
       "      <td>0.0</td>\n",
       "      <td>0.0</td>\n",
       "      <td>...</td>\n",
       "      <td>0.0</td>\n",
       "      <td>0.000000</td>\n",
       "      <td>0.000000</td>\n",
       "      <td>0.000000</td>\n",
       "      <td>0.0</td>\n",
       "      <td>0.0</td>\n",
       "      <td>0.0</td>\n",
       "      <td>0.0</td>\n",
       "      <td>0.0</td>\n",
       "      <td>0.0</td>\n",
       "    </tr>\n",
       "    <tr>\n",
       "      <th>1</th>\n",
       "      <td>0.0</td>\n",
       "      <td>0.0</td>\n",
       "      <td>0.0</td>\n",
       "      <td>0.0</td>\n",
       "      <td>0.026007</td>\n",
       "      <td>0.063915</td>\n",
       "      <td>0.0</td>\n",
       "      <td>0.0</td>\n",
       "      <td>0.0</td>\n",
       "      <td>0.0</td>\n",
       "      <td>...</td>\n",
       "      <td>0.0</td>\n",
       "      <td>0.178610</td>\n",
       "      <td>0.179045</td>\n",
       "      <td>0.023859</td>\n",
       "      <td>0.0</td>\n",
       "      <td>0.0</td>\n",
       "      <td>0.0</td>\n",
       "      <td>0.0</td>\n",
       "      <td>0.0</td>\n",
       "      <td>0.0</td>\n",
       "    </tr>\n",
       "    <tr>\n",
       "      <th>2</th>\n",
       "      <td>0.0</td>\n",
       "      <td>0.0</td>\n",
       "      <td>0.0</td>\n",
       "      <td>0.0</td>\n",
       "      <td>0.068303</td>\n",
       "      <td>0.000000</td>\n",
       "      <td>0.0</td>\n",
       "      <td>0.0</td>\n",
       "      <td>0.0</td>\n",
       "      <td>0.0</td>\n",
       "      <td>...</td>\n",
       "      <td>0.0</td>\n",
       "      <td>0.000000</td>\n",
       "      <td>0.000000</td>\n",
       "      <td>0.000000</td>\n",
       "      <td>0.0</td>\n",
       "      <td>0.0</td>\n",
       "      <td>0.0</td>\n",
       "      <td>0.0</td>\n",
       "      <td>0.0</td>\n",
       "      <td>0.0</td>\n",
       "    </tr>\n",
       "    <tr>\n",
       "      <th>3</th>\n",
       "      <td>0.0</td>\n",
       "      <td>0.0</td>\n",
       "      <td>0.0</td>\n",
       "      <td>0.0</td>\n",
       "      <td>0.000000</td>\n",
       "      <td>0.000000</td>\n",
       "      <td>0.0</td>\n",
       "      <td>0.0</td>\n",
       "      <td>0.0</td>\n",
       "      <td>0.0</td>\n",
       "      <td>...</td>\n",
       "      <td>0.0</td>\n",
       "      <td>0.000000</td>\n",
       "      <td>0.000000</td>\n",
       "      <td>0.039239</td>\n",
       "      <td>0.0</td>\n",
       "      <td>0.0</td>\n",
       "      <td>0.0</td>\n",
       "      <td>0.0</td>\n",
       "      <td>0.0</td>\n",
       "      <td>0.0</td>\n",
       "    </tr>\n",
       "    <tr>\n",
       "      <th>4</th>\n",
       "      <td>0.0</td>\n",
       "      <td>0.0</td>\n",
       "      <td>0.0</td>\n",
       "      <td>0.0</td>\n",
       "      <td>0.000000</td>\n",
       "      <td>0.000000</td>\n",
       "      <td>0.0</td>\n",
       "      <td>0.0</td>\n",
       "      <td>0.0</td>\n",
       "      <td>0.0</td>\n",
       "      <td>...</td>\n",
       "      <td>0.0</td>\n",
       "      <td>0.105283</td>\n",
       "      <td>0.105539</td>\n",
       "      <td>0.112511</td>\n",
       "      <td>0.0</td>\n",
       "      <td>0.0</td>\n",
       "      <td>0.0</td>\n",
       "      <td>0.0</td>\n",
       "      <td>0.0</td>\n",
       "      <td>0.0</td>\n",
       "    </tr>\n",
       "  </tbody>\n",
       "</table>\n",
       "<p>5 rows × 1174 columns</p>\n",
       "</div>"
      ],
      "text/plain": [
       "    10  100  2019  401k   ability  ability communicate  ability work  able  \\\n",
       "0  0.0  0.0  0.0   0.0   0.134870  0.165729             0.0           0.0    \n",
       "1  0.0  0.0  0.0   0.0   0.026007  0.063915             0.0           0.0    \n",
       "2  0.0  0.0  0.0   0.0   0.068303  0.000000             0.0           0.0    \n",
       "3  0.0  0.0  0.0   0.0   0.000000  0.000000             0.0           0.0    \n",
       "4  0.0  0.0  0.0   0.0   0.000000  0.000000             0.0           0.0    \n",
       "\n",
       "   able work  academic  ...  x9d       xe2   xe2 x80      year  \\\n",
       "0  0.0        0.0       ...  0.0  0.000000  0.000000  0.000000   \n",
       "1  0.0        0.0       ...  0.0  0.178610  0.179045  0.023859   \n",
       "2  0.0        0.0       ...  0.0  0.000000  0.000000  0.000000   \n",
       "3  0.0        0.0       ...  0.0  0.000000  0.000000  0.039239   \n",
       "4  0.0        0.0       ...  0.0  0.105283  0.105539  0.112511   \n",
       "\n",
       "   year experience  year relevant  year work  years  years xe2  york  \n",
       "0  0.0              0.0            0.0        0.0    0.0        0.0   \n",
       "1  0.0              0.0            0.0        0.0    0.0        0.0   \n",
       "2  0.0              0.0            0.0        0.0    0.0        0.0   \n",
       "3  0.0              0.0            0.0        0.0    0.0        0.0   \n",
       "4  0.0              0.0            0.0        0.0    0.0        0.0   \n",
       "\n",
       "[5 rows x 1174 columns]"
      ]
     },
     "execution_count": 213,
     "metadata": {},
     "output_type": "execute_result"
    }
   ],
   "source": [
    "##### Your Code Here #####\n",
    "from sklearn.feature_extraction.text import TfidfVectorizer\n",
    "\n",
    "# Instantiate vectorizer object\n",
    "tfidf = TfidfVectorizer(stop_words = 'english',\n",
    "                         #tokenizer = tokenize,\n",
    "                         ngram_range = (1,2),\n",
    "                         min_df = 0.05, \n",
    "                         max_df = 0.8,\n",
    "                         max_features = 5000\n",
    "                       )\n",
    "\n",
    "# Create a vocabulary and get word counts per document\n",
    "# Similiar to fit_predict\n",
    "dtm = tfidf.fit_transform(data.tokens_joined)\n",
    "\n",
    "# Print word counts\n",
    "\n",
    "# Get feature names to use as dataframe column headers\n",
    "dtm = pd.DataFrame(dtm.todense(), columns=tfidf.get_feature_names())\n",
    "\n",
    "# View Feature Matrix as DataFrame\n",
    "print(dtm.shape)\n",
    "dtm.head()"
   ]
  },
  {
   "cell_type": "markdown",
   "metadata": {},
   "source": [
    "## 6) Create a NearestNeighbor Model. Write the description of your ideal datascience job and query your job listings. "
   ]
  },
  {
   "cell_type": "code",
   "execution_count": 214,
   "metadata": {
    "collapsed": false,
    "inputHidden": false,
    "jupyter": {
     "outputs_hidden": false
    },
    "outputHidden": false
   },
   "outputs": [
    {
     "data": {
      "text/plain": [
       "NearestNeighbors(algorithm='kd_tree', leaf_size=30, metric='minkowski',\n",
       "                 metric_params=None, n_jobs=None, n_neighbors=5, p=2,\n",
       "                 radius=1.0)"
      ]
     },
     "execution_count": 214,
     "metadata": {},
     "output_type": "execute_result"
    }
   ],
   "source": [
    "##### Your Code Here #####\n",
    "from sklearn.neighbors import NearestNeighbors\n",
    "\n",
    "# Fit on DTM\n",
    "nn = NearestNeighbors(n_neighbors=5, algorithm='kd_tree')\n",
    "nn.fit(dtm)"
   ]
  },
  {
   "cell_type": "code",
   "execution_count": 219,
   "metadata": {},
   "outputs": [],
   "source": [
    "resume = [\"\"\"\n",
    "OFER BAHARAV\n",
    "ofer.baharav@alumni.duke.edu – https://www.linkedin.com/in/oferbaharav Menlo Park, CA 415-305-1033\n",
    "  SUMMARY\n",
    "PROFESSIONAL EXPERIENCE\n",
    "  \n",
    "Product, engineering, and growth management leader passionate about building high quality products that customers love using.\n",
    "Over 15 years experience scaling technical products from vision to execution while managing operations, zero to one growth to\n",
    "$5M ARR, and teams of up to 30 employees. Provided leadership, analytical, and creative thinking for the design, build, launch,\n",
    "pilot, and scale of innovative products. Operated with focus on customer empathy, simple design, organizational impact, and\n",
    "global deployment. Maintained an amazing culture across the organization through agile methodology, leading teams for\n",
    "maximum impact. Coach and go-to person with management experience and excellent communication skills who is excited about\n",
    "helping and motivating team members to grow and excel in what they do best.\n",
    "  REALVR, Los Altos, CA\n",
    "Founder and Head of Product & Engineering\n",
    "Dec 2016 – Present\n",
    "l Designed and developed a cloud b2b platform for the creation of virtual reality walkthroughs for indoor spaces, increasingly using machine learning for optimizing the model to reach photorealistic results http://www.realvr.ai/hotel_lobby\n",
    "l Employed hardware/software including LiDAR, a camera rig, and photogrammetry for scanning while using ML vision for identifying scanned objects and then replacing them with 3D database assets, thereby cutting scan costs by 80% and resolving common scan blemishes to produce high fidelity photo grade 3D models\n",
    "l Trained company datasets using convolutional neural networks, deep learning, and transfer learning, constantly seeking to optimize classification and improve the model’s accuracy using AutoML in Google Cloud Platform and AWS SageMaker\n",
    "l Built product using agile methodology: standups, weekly sprints, and continuous integration\n",
    "l Piloted prototype with enterprise clients for AR/VR immersive 3D walkthroughs. Presented at industry events. l Planned product vision, strategy, roadmap, and release cycles\n",
    "l Engineered machine learning algorithms in Python using Scikit-learn and TensorFlow\n",
    "APPLIED LAYERS, Palo Alto, CA Dec 2015 – May 2016 Founder and Head of Product & Engineering\n",
    "l Formed a team of 3 SaaS veterans with a vision for helping companies with sales predictions and recommendations using predictive analytics and Natural Language Processing\n",
    "l Validated a SaaS predictive analytics and machine learning engine with 3 pilots, to output predictions and recommendations for sales teams. The engine automatically analyzed CRM data for creating predictive models and generating recommendations for increasing sales closing rates.\n",
    "l Used cutting edge ML/AI algorithms to produce predictions and recommendations. Built reasoning into the system l After extensive conversations with investors decided to shelf the project\n",
    "CALLIX, São Paulo, Brazil Jul 2014 – Dec 2015 CEO and Head of Product & Engineering\n",
    "l Turned around this enterprise SaaS voice, analytics, and messaging call center platform, which was six months away from shut down prior to my arrival, when operations were in the red\n",
    "l Managed 30 employees and 15 direct reports including product and engineering. Held regular 1:1s and performance reviews l Fixed and scaled the existing platform, re-architecting the product and addressing technical debt on a shoestring budget\n",
    "l Increased server capacity to address burgeoning client load at peak usage hours, enabling seamless operations\n",
    "l From vision to execution, defined and built a new platform that scaled to millions of users, using the best in WebRTC, Ruby\n",
    "on Rails, and JavaScript, to form a unique click-to-call communications platform for e-commerce sales and customer\n",
    "support calls. Integrated external APIs such as Zendesk and Salesforce\n",
    "l Conducted rigorous piloting while iterating features and UX/UI based on user testing, metrics, and KPIs\n",
    "l Used agile methodology with daily standups, bi-weekly sprints and frequent shipping\n",
    "l Cut back features and costs by 50% by optimizing the product and deprecating less popular features and services\n",
    "l Reduced customer support tickets by 80% as a consequence of technical improvements and upgrades to the old platform\n",
    "l Reassigned underutilized technical support employees to technical sales, and built team of sales and customer success\n",
    "experts, leading first to break even and an overall increase in sales of 20%. Brought company into the black\n",
    "l Hired CFO and delivered dashboard KPIs to track daily progress for management and our investors\n",
    "l Developed and influenced enterprise client relations including LatAm’s largest insurance and telecom operators\n",
    "l Negotiated key contracts, agreements, and partnerships including with Latin America’s largest e-commerce, insurance, and\n",
    " \n",
    "telecom groups. Vetted contracts through legal, finance, and board of directors.\n",
    "l Presented product at industry events attracting PR coverage and demand for the new platform\n",
    "l Positioned product as an alternative to highly taxed traditional telephony solutions in Brazil and prepared global expansion l Successfully raised capital at a crucial time in the company’s development\n",
    "l Brought the company to an exit, and returned back to the US for personal reasons\n",
    "PEER, Silicon Valley and São Paulo, Brazil Nov 2011 – July 2014 Founder and Head of Product\n",
    "l Launched live video and messaging networking application for professionals within 9 months in Nov 2013\n",
    "l Designed a new communications product for reconstructing video messaging conversations from asynchronous sources\n",
    "l Defined product roadmap and milestones including: wireframes, features, usability tests, prototypes, pilots and launches\n",
    "l Designed complex CoreOS architecture, hired expert iOS engineers to build in AVFoundation, AVKit, and Core Audio\n",
    "l Built the product in WebRTC, achieving high platform quality, positioning, and scale\n",
    "l Negotiated partnerships with university alumni networks to collaborate over a custom enterprise platform for this sector\n",
    "l Led small business development, marketing, and PR teams, reaching thousands of users\n",
    "l Launched mobile platform for buying and selling professional services using live video over LinkedIn’s social graph\n",
    "l Raised capital, hired software engineers and UX/UI designers, built product roadmap, enrolled company in highly selective\n",
    "LatAm accelerator, and negotiated key partnerships and legal contracts\n",
    "l Represented company as panelist at conferences. Company won competitions and awards, including Mobile World Congress\n",
    "JOHNNY LABS, Palo Alto, CA May 2010 – Present EIR\n",
    "l As EIR at prominent Silicon Valley accelerators, was interim CXO and product advisor to several enterprise SaaS startups. Participated in funding and mergers and acquisition negotiations.\n",
    "BRIMACOMB & ASSOCIATES LLC, Palo Alto, CA Partner\n",
    "l Established and managed West Coast office for Brimacomb & Associates, a $30M VC fund and Venture Advisory l Worked with client CEOs in operations, strategy, and fund raising\n",
    "l Helped with product, operations, growth and strategy, and negotiated complex contracts on behalf of clients\n",
    "DOW JONES & COMPANY, San Francisco, CA Manager\n",
    "l Managed a team of five Account Executives to sell VentureSource SaaS analytics and services to venture capital general and limited partners, and investment bankers, exceeding quota by 200%\n",
    "ALFY, INC., New York, NY\n",
    "Vice President of Business Development\n",
    "l Formed all principal business development partnerships, and led company to recognized player in its sector l Instrumental in raising $42M in three rounds of funding\n",
    "l Managed a team of 4 business development managers\n",
    "EDUCATION\n",
    "MBA, Global Management and Finance, Graduated 2007\n",
    "Duke University, The Fuqua School of Business, Durham, NC\n",
    "Elected Chair of Speaker Committee and successfully led the process with Mexico’s former president Vicente Fox, who spoke at commencement\n",
    "Bachelor of Science, Information Systems; Graduated with Honors, 2002 University of Phoenix\n",
    "NOTEWORTHY\n",
    "l Intermediate Python machine learning programming skills; Fluent in English, Portuguese, and Hebrew\n",
    "l EIR, advisor, and mentor at prominent Silicon Valley accelerators and startups 2008 – 2010, and 2015 – 2019 (recently at\n",
    "Google Launchpad and Alchemist, also working with ML based tech transfer from Israel to Brazil with two agtech startups) l Neural Networks and Deep Learning concentration on Coursera (5 courses/ 8 mo curriculum). Certificates earned May, 2018 l Lambda School Machine Learning and Artificial Intelligence: 1.5 year course for ML engineering in Python (night class)\n",
    "\"\"\"]"
   ]
  },
  {
   "cell_type": "code",
   "execution_count": 220,
   "metadata": {},
   "outputs": [],
   "source": [
    "#similarity of my resume to job descriptions in dataset\n",
    "new = tfidf.transform(resume)"
   ]
  },
  {
   "cell_type": "code",
   "execution_count": 221,
   "metadata": {},
   "outputs": [
    {
     "data": {
      "text/plain": [
       "<1x1174 sparse matrix of type '<class 'numpy.float64'>'\n",
       "\twith 169 stored elements in Compressed Sparse Row format>"
      ]
     },
     "execution_count": 221,
     "metadata": {},
     "output_type": "execute_result"
    }
   ],
   "source": [
    "new"
   ]
  },
  {
   "cell_type": "code",
   "execution_count": 222,
   "metadata": {},
   "outputs": [
    {
     "data": {
      "text/plain": [
       "(array([[1.16715447, 1.17066331, 1.17125045, 1.18905458, 1.18905458]]),\n",
       " array([[385, 215,  83,  27,  66]]))"
      ]
     },
     "execution_count": 222,
     "metadata": {},
     "output_type": "execute_result"
    }
   ],
   "source": [
    "nn.kneighbors(new.todense())"
   ]
  },
  {
   "cell_type": "code",
   "execution_count": 230,
   "metadata": {},
   "outputs": [
    {
     "name": "stdout",
     "output_type": "stream",
     "text": [
      "b'Coursera was founded by two computer science professors at Stanford with a vision of providing life-transforming learning experiences to anyone anywhere It is the world\\xe2\\x80\\x99s largest online learning platform for higher education In partnership with 170 of the world\\xe2\\x80\\x99s top universities and industry educators we offer courses Specializations and degrees that empower over 40 million learners around the world to achieve their career goals Over 1800 companies use the company\\xe2\\x80\\x99s enterprise platform Coursera for Business to transform their talent And we are backed by leading venture capital firms such as Kleiner Perkins Caufield & Byers New Enterprise Associates and GSV Capital  At Coursera our Data Science team is helping to build the future of education through data-driven decision making and data-powered products We drive product and business strategy through measurement experimentation and causal inference We define develop and launch the models and algorithms that power content discovery personalized learning and machine-assisted teaching and grading We believe the next generation of teaching and learning should be personalized accessible and efficient With our scale data technology and talent Coursera and its Data Science team are positioned to make that vision a reality  As Senior Data Scientist Machine Learning you will define and build innovative data-powered products to personalize and scale high-quality experiences for 40 million global learners The ideal candidate possesses a strong statistical and computational skill set is collaborative and impact-driven and shares our passion for education Your responsibilities Ideate prototype and productionize the machine learning algorithms that power Coursera\\xe2\\x80\\x99s product including discovery eg personalized recommendations learning eg automated study guides targeted nudges and instructor-facing features to support learners at scale eg machine-assisted grading and feedback Work cross-functionally with engineers product managers and other data scientists on our core discovery and learning products Your skills Solid background in applied math computer science statistics or related technical field Deep applied statistics and modeling skills Strong computational skills Proficient with at least one scripting language eg Python and at least one statistical software package Excellent communication and project management skills 3+ years of industry experience preferred If this opportunity interests you you might like these courses on Coursera Recommender Systems Machine Learning'\n"
     ]
    }
   ],
   "source": [
    "print(data.cleaned_text[385])"
   ]
  },
  {
   "cell_type": "code",
   "execution_count": 231,
   "metadata": {},
   "outputs": [
    {
     "name": "stdout",
     "output_type": "stream",
     "text": [
      "b\"Company Profile  Morgan Stanley is a leading global financial services firm providing a wide range of investment banking securities investment management and wealth management services The Firm's employees serve clients worldwide including corporations governments and individuals from more than 1200 offices in 43 countries As a market leader the talent and passion of our people is critical to our success Together we share a common set of values rooted in integrity excellence and strong team ethic Morgan Stanley can provide a superior foundation for building a professional career - a place for people to learn to achieve and grow A philosophy that balances personal lifestyles perspectives and needs is an important part of our culture  Technology  Technology works as a strategic partner with Morgan Stanley business units and the world's leading technology companies to redefine how we do business in ever more global complex and dynamic financial markets Morgan Stanley's sizeable investment in technology results in quantitative trading systems cutting-edge modelling and simulation software comprehensive risk and security systems and robust client-relationship capabilities plus the worldwide infrastructure that forms the backbone of these systems and tools Our insights our applications and infrastructure give a competitive edge to clients' businesses and to our own  MS Investment Management IMIT Technology  Morgan Stanley Investment Management Technology IMIT exclusively partners with the Morgan Stanley Investment Management MSIM business division to design and develop systems and integrate vendor products to globally support full life cycle business processing Activities include Portfolio Analysis Risk Trading Operations and Sales & Marketing Morgan Stanley Investment Management MSIM Technology also provides holistic support and quality assurance across the suite of applications used in the MSIM environment  The IMIT Sales Technology team owns Sales & Distribution technology platform The team is responsible for defining technology strategy in-line with business goals and providing solutions in a very dynamic environment Sales Platform is a distributed system with several integrated components providing customized CRM functionality data process integration with firm systems business intelligence through Reporting & Analytics and  data driven Marketing & Lead GenerationOverview We are looking for an experienced Data Scientist to join our data-science group The person in this role would be responsible for analyzing data and developing predictive models for various use-cases within Sales & Marketing such as Sales Targeting & Segmentation Lead Generation Product Recommendation etc They must have strong experience employing different data mining   data analysis methods using a variety of data tools building and implementing models They must have a proven ability to drive business results with their data-based insights The ideal candidate is adept at discovering and using wide variety of data-sets together It is absolutely critical that they are comfortable understanding the business domain and interpreting   explaining the findings of models as it applies to the business problem for people outside  data-science domainResponsibilities  Work with stakeholders identifying opportunities  for leveraging data to solve for business challenges\\xc2\\xb7Identify valuable data sources   data sets that can be leveraged to improve results   Analyze data to interpret against business  opportunity and discover trends and patterns   Process cleanse and verify the integrity of  structured   un-structured data used for analysis   Research and implement custom statistical models  and machine learning algorithms   Execute analytical experiments  Qualifications \\xc2\\xb7 Master\\xe2\\x80\\x99s Degree in Computer Science Statistics Applied Math or relevant field  \\xc2\\xb7 7+ year\\xe2\\x80\\x99s practical experience as a Data Scientist with proven track record  \\xc2\\xb7 Strong math skills eg statistics algebra multi-variable calculus  \\xc2\\xb7 Expertise with R SQL and Python familiarity with Scala Java or C++ is an asset  \\xc2\\xb7 Extensive background in data mining and statistical analysis  \\xc2\\xb7 Deep understanding of real-life applicability and limitations of machine-learning algorithms  \\xc2\\xb7 Problem-solving aptitude  \\xc2\\xb7 Analytical mind and business acumen  \\xc2\\xb7 Excellent communication and presentation skills  Skills and Experience\\xc2\\xb7Experience with B2B Financial Industry Asset Management Sales & Marketing is highly desired \\xc2\\xb7Knowledge of a variety of machine learning techniques clustering decision tree learning artificial neural networks etc and their real-world advantages drawbacks   Knowledge  of advanced statistical techniques and concepts regression properties of distributions statistical tests and proper usage etc and experience with applications   Knowledge  and experience in statistical and data mining techniquesGLM Regression Random Forest Boosting Trees text mining social network analysis etc   Expertise  querying Relational   No-SQL databases and using statistical programming languages like R Python etc   Experience  with distributed data computing toolsHadoop Hive Spark etc  Experience visualizing presenting data for stakeholders  usingBusiness Objects Tableau D3js ggplot etc   Experience  with data-science tools Dataiku Jupyter etc   Knowledge  of open-source 3rd party cloud based data science   NLP   machine learning platforms eg AWS or Azure offerings\"\n"
     ]
    }
   ],
   "source": [
    "print(data.cleaned_text[215])"
   ]
  },
  {
   "cell_type": "markdown",
   "metadata": {
    "colab_type": "text",
    "id": "FiDfTWceoRkH"
   },
   "source": [
    "## Stretch Goals\n",
    "\n",
    " - Try different visualizations for words and frequencies - what story do you want to tell with the data?\n",
    " - Scrape Job Listings for the job title \"Data Analyst\". How do these differ from Data Scientist Job Listings\n",
    " - Try and identify requirements for experience specific technologies that are asked for in the job listings. How are those distributed among the job listings?\n",
    " - Use a clustering algorithm to cluster documents by their most important terms. Do the clusters reveal any common themes?\n",
    "  - **Hint:** K-means might not be the best algorithm for this. Do a little bit of research to see what might be good for this. Also, remember that algorithms that depend on Euclidean distance break down with high dimensional data.\n",
    " - Create a labeled dataset - which jobs will you apply for? Train a model to select the jobs you are most likely to apply for. :) "
   ]
  }
 ],
 "metadata": {
  "colab": {
   "collapsed_sections": [],
   "name": "LS_DS_422_BOW_Assignment.ipynb",
   "provenance": [],
   "version": "0.3.2"
  },
  "kernel_info": {
   "name": "python3"
  },
  "kernelspec": {
   "display_name": "U4-S1-NLP (Python3)",
   "language": "python",
   "name": "u4-s1-nlp"
  },
  "language_info": {
   "codemirror_mode": {
    "name": "ipython",
    "version": 3
   },
   "file_extension": ".py",
   "mimetype": "text/x-python",
   "name": "python",
   "nbconvert_exporter": "python",
   "pygments_lexer": "ipython3",
   "version": "3.7.0"
  },
  "nteract": {
   "version": "0.14.3"
  }
 },
 "nbformat": 4,
 "nbformat_minor": 4
}
